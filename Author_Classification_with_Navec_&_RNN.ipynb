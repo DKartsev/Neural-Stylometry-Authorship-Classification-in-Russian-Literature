{
  "cells": [
    {
      "cell_type": "markdown",
      "metadata": {
        "id": "fRGwoJZ4ia3P"
      },
      "source": [
        "# Классификация авторства русской прозы с предобученными эмбеддингами Navec\n",
        "\n"
      ]
    },
    {
      "cell_type": "markdown",
      "metadata": {
        "id": "p14bxvNTi1l4"
      },
      "source": [
        "В ноутбуке реализован пайплайн для классификации отрывков текста по авторам русской литературы (Достоевский, Толстой, Тургенев, Чехов, Горький). В качестве предварительно обученных эмбеддингов используется Navec (300-мерные вектора), тексты токенизируются библиотекой `razdel`, а модель — гибридная RNN (BiLSTM + GRU) с замороженным слоем эмбеддингов.\n",
        "\n",
        "**Основные шаги:**\n",
        "1. Загрузка и распаковка датасета русской литературы.\n",
        "2. Сбор текстов по авторам и предобработка (замена переносов, токенизация razdel).\n",
        "3. Построение словаря Keras Tokenizer и перевод текстов в последовательности индексов.\n",
        "4. Нарезка последовательностей скользящим окном и балансировка наборов примеров по авторам.\n",
        "5. Создание матрицы эмбеддингов из предобученного Navec и формирование входных данных.\n",
        "6. Построение и обучение нейросети (Embedding (заморожен) → SpatialDropout → BiLSTM → GRU → Dense).\n",
        "7. Валидация, сохранение лучшей модели и оценка на тестовой выборке.\n",
        "8. Визуализация динамики обучения и матрица ошибок (confusion matrix).\n",
        "\n",
        "\n",
        "**Ожидаемый результат:** модель, которая по отрывку текста определяет авторство с высокой точностью; в эксперименте достигнута точность на тестовой выборке **>90.00%**.\n"
      ]
    },
    {
      "cell_type": "markdown",
      "metadata": {
        "id": "Ql7eQ1eqDcPa"
      },
      "source": [
        "### Загрузка предобученных Embedding"
      ]
    },
    {
      "cell_type": "markdown",
      "metadata": {
        "id": "ZE80ez0Kdvgt"
      },
      "source": [
        "Загружаем архив с произведениями классиков"
      ]
    },
    {
      "cell_type": "code",
      "execution_count": null,
      "metadata": {
        "colab": {
          "base_uri": "https://localhost:8080/"
        },
        "id": "vRgnDCk-DfBG",
        "outputId": "b269c6d5-8282-44f8-d41f-4a27f45c1ab3"
      },
      "outputs": [],
      "source": [
        "!wget https://storage.yandexcloud.net/natasha-navec/packs/navec_hudlit_v1_12B_500K_300d_100q.tar"
      ]
    },
    {
      "cell_type": "code",
      "execution_count": null,
      "metadata": {
        "colab": {
          "base_uri": "https://localhost:8080/"
        },
        "id": "TmjFU_onDjA9",
        "outputId": "d1cb4efc-420c-42f1-c439-27f20494aa15"
      },
      "outputs": [],
      "source": [
        "!pip install navec"
      ]
    },
    {
      "cell_type": "code",
      "execution_count": 4,
      "metadata": {
        "id": "-DQ6RaRCDl7Z"
      },
      "outputs": [],
      "source": [
        "from navec import Navec\n",
        "\n",
        "navec = Navec.load('navec_hudlit_v1_12B_500K_300d_100q.tar')\n",
        "EMBEDDING_DIM = 300\n",
        "MAX_WORDS = 30000"
      ]
    },
    {
      "cell_type": "markdown",
      "metadata": {
        "id": "_ST4YhQADoLm"
      },
      "source": [
        "### Подготовка датасета"
      ]
    },
    {
      "cell_type": "markdown",
      "metadata": {
        "id": "kx3j4p95DsOo"
      },
      "source": [
        "**Шаг 1. Загрузка базы писателей Русской литературы**"
      ]
    },
    {
      "cell_type": "code",
      "execution_count": 5,
      "metadata": {
        "colab": {
          "base_uri": "https://localhost:8080/"
        },
        "id": "ICGyCJ9ODuhK",
        "outputId": "36dfe6a2-c3aa-44bd-eac2-2fe50ae7f336"
      },
      "outputs": [
        {
          "name": "stdout",
          "output_type": "stream",
          "text": [
            "Downloading data from https://storage.yandexcloud.net/academy.ai/russian_literature.zip\n",
            "\u001b[1m21547079/21547079\u001b[0m \u001b[32m━━━━━━━━━━━━━━━━━━━━\u001b[0m\u001b[37m\u001b[0m \u001b[1m2s\u001b[0m 0us/step\n"
          ]
        }
      ],
      "source": [
        "import keras\n",
        "data_path = keras.utils.get_file(\n",
        "    \"russian_literature.zip\",\n",
        "    \"https://storage.yandexcloud.net/academy.ai/russian_literature.zip\"\n",
        ")"
      ]
    },
    {
      "cell_type": "markdown",
      "metadata": {
        "id": "VmWfMS8TEFT-"
      },
      "source": [
        "**Шаг 2. Распаковка датасета**"
      ]
    },
    {
      "cell_type": "code",
      "execution_count": null,
      "metadata": {
        "colab": {
          "base_uri": "https://localhost:8080/"
        },
        "id": "QU5d46r2EOY1",
        "outputId": "b9c22fc0-451d-4d34-ac30-5c262c59a6f8"
      },
      "outputs": [],
      "source": [
        "# Разархивируем датасета во временную папку 'dataset'\n",
        "!unzip -qo \"{data_path}\" -d ./dataset"
      ]
    },
    {
      "cell_type": "markdown",
      "metadata": {
        "id": "EBJ0F8nEEnx1"
      },
      "source": [
        "**Шаг 3. Формирование датасета**"
      ]
    },
    {
      "cell_type": "code",
      "execution_count": 7,
      "metadata": {
        "id": "V7tl6IcLEqzA"
      },
      "outputs": [],
      "source": [
        "CLASS_LIST=[\"Dostoevsky\", \"Tolstoy\", \"Turgenev\", \"Chekhov\", \"Gorky\"]"
      ]
    },
    {
      "cell_type": "code",
      "execution_count": 8,
      "metadata": {
        "id": "se9QrzYSE2e1"
      },
      "outputs": [],
      "source": [
        "# Загрузка необходимых библиотек\n",
        "import glob # Вспомогательный модуль для работы с файловой системой\n",
        "\n",
        "\n",
        "all_texts = {} # Собираем в словарь весь датасет\n",
        "\n",
        "for author in CLASS_LIST:\n",
        "    all_texts[author] = '' # Инициализируем пустой строкой новый ключ словаря\n",
        "    for path in glob.glob('./dataset/prose/{}/*.txt'.format(author)) +  glob.glob('./dataset/poems/{}/*.txt'.format(author)): # Поиск файлов по шаблону\n",
        "        with open(f'{path}', 'r', errors='ignore') as f: # игнорируем ошибки (например символы из другой кодировки)\n",
        "            # Загрузка содержимого файла в строку\n",
        "            text = f.read()\n",
        "\n",
        "        all_texts[author]  += ' ' + text.replace('\\n', ' ') # Заменяем символ перехода на новую строку пробелом"
      ]
    },
    {
      "cell_type": "markdown",
      "metadata": {
        "id": "OeNkEln8Fn0D"
      },
      "source": [
        "**Шаг 4. Токенизация**"
      ]
    },
    {
      "cell_type": "markdown",
      "metadata": {
        "id": "3MoLWT4Md6CB"
      },
      "source": [
        "Используем библиотеку `razdel` для корректной русской токенизации.\n",
        "Каждый текст разбивается на список токенов для обучения модели"
      ]
    },
    {
      "cell_type": "code",
      "execution_count": null,
      "metadata": {
        "colab": {
          "base_uri": "https://localhost:8080/"
        },
        "id": "vnSPlhtPGT8h",
        "outputId": "ce766748-54cb-49e7-ce03-e1cc486b1c04"
      },
      "outputs": [],
      "source": [
        "!pip install razdel"
      ]
    },
    {
      "cell_type": "code",
      "execution_count": 10,
      "metadata": {
        "colab": {
          "base_uri": "https://localhost:8080/"
        },
        "id": "wFM3Q2rjGyD5",
        "outputId": "10a04a36-ff0b-433c-9017-356111dc6ddc"
      },
      "outputs": [
        {
          "name": "stdout",
          "output_type": "stream",
          "text": [
            "Всего авторов: 5\n",
            "Пример токенизированного текста (Dostoevsky):\n",
            "Федор Михайлович Достоевский Бедные люди РОМАН Ох уж эти мне сказочники ! Нет чтобы написать что-нибудь полезное , приятное , усладительное , а то всю подноготную в земле вырывают !.. Вот уж запретил бы им писать ! Ну , на что это похоже : читаешь ... невольно задумаешься , -- а там всякая дребедень\n",
            "Размер словаря: 210501\n"
          ]
        }
      ],
      "source": [
        "from razdel import tokenize\n",
        "from tensorflow.keras.preprocessing.text import Tokenizer\n",
        "\n",
        "embedding_dim = 300    # размерность эмбеддингов (совпадает с Navec)\n",
        "max_words = 10000      # количество слов для словаря\n",
        "\n",
        "# Токенизация текстов Razdel\n",
        "def razdel_tokenize(text):\n",
        "    # превращаем текст в строку токенов, разделённых пробелами\n",
        "    tokens = [t.text for t in tokenize(str(text))]\n",
        "    return \" \".join(tokens)\n",
        "\n",
        "# Применяем токенизацию ко всем авторам\n",
        "# Превратим словарь all_texts в список текстов\n",
        "author_names = list(all_texts.keys())\n",
        "texts = list(all_texts.values())\n",
        "\n",
        "# Токенизируем каждый текст Razdel’ом\n",
        "texts_tokenized = [razdel_tokenize(t) for t in texts]\n",
        "\n",
        "# Создаём токенайзер Keras — он теперь работает по токенам Razdel\n",
        "tokenizer = Tokenizer(\n",
        "    num_words=max_words,\n",
        "    filters='',\n",
        "    lower=True,\n",
        "    split=' ',\n",
        "    char_level=False\n",
        ")\n",
        "\n",
        "# Обучаем токенайзер на токенизированных текстах\n",
        "tokenizer.fit_on_texts(texts_tokenized)\n",
        "\n",
        "# Проверим результат\n",
        "print(f\"Всего авторов: {len(author_names)}\")\n",
        "print(f\"Пример токенизированного текста ({author_names[0]}):\")\n",
        "print(texts_tokenized[0][:300])\n",
        "print(f\"Размер словаря: {len(tokenizer.word_index)}\")"
      ]
    },
    {
      "cell_type": "markdown",
      "metadata": {
        "id": "RBj3oY7oI2sc"
      },
      "source": [
        "### Шаг 5. Преобразование текста в последовательности"
      ]
    },
    {
      "cell_type": "code",
      "execution_count": 11,
      "metadata": {
        "colab": {
          "base_uri": "https://localhost:8080/"
        },
        "id": "5UTVU_1WI5nX",
        "outputId": "4f44f1ab-4ff7-444d-a9b8-907b0398af0c"
      },
      "outputs": [
        {
          "name": "stdout",
          "output_type": "stream",
          "text": [
            "Dostoevsky len: 1970306\n",
            "Tolstoy len: 1592948\n",
            "Turgenev len: 401271\n",
            "Chekhov len: 319587\n",
            "Gorky len: 743361\n"
          ]
        }
      ],
      "source": [
        "from tensorflow.keras.preprocessing.sequence import pad_sequences\n",
        "import numpy as np\n",
        "from collections import Counter\n",
        "import random\n",
        "\n",
        "random.seed(42)\n",
        "np.random.seed(42)\n",
        "\n",
        "# Приведём вход к единой форме: dict author -> tokenized_string\n",
        "if isinstance(texts_tokenized, dict):\n",
        "    tok_by_author = texts_tokenized\n",
        "elif isinstance(texts_tokenized, list):\n",
        "    if len(texts_tokenized) != len(author_names):\n",
        "        raise ValueError(\"Если texts_tokenized — list, он должен быть той же длины, что и author_names\")\n",
        "    tok_by_author = {a: t for a, t in zip(author_names, texts_tokenized)}\n",
        "else:\n",
        "    raise ValueError(\"texts_tokenized должен быть list или dict\")\n",
        "\n",
        "# Используем tokenizer.texts_to_sequences для списка значений\n",
        "authors = list(tok_by_author.keys())\n",
        "texts_list = [tok_by_author[a] for a in authors]   # список токенизированных строк\n",
        "sequences_list = tokenizer.texts_to_sequences(texts_list)  # list of list[int]\n",
        "\n",
        "# Маппинг author -> sequence (список индексов)\n",
        "sequences_by_author = {author: seq for author, seq in zip(authors, sequences_list)}\n",
        "\n",
        "# Проверка\n",
        "for a in authors:\n",
        "    print(a, \"len:\", len(sequences_by_author[a]))\n"
      ]
    },
    {
      "cell_type": "markdown",
      "metadata": {
        "id": "5uI7Q1flJm5_"
      },
      "source": [
        "### Шаг 6. Балансировка датасета"
      ]
    },
    {
      "cell_type": "markdown",
      "metadata": {
        "id": "KDaZKDUueCN3"
      },
      "source": [
        "Уравниваем количество примеров для каждого автора, чтобы модель обучалась равномерно"
      ]
    },
    {
      "cell_type": "code",
      "execution_count": 12,
      "metadata": {
        "colab": {
          "base_uri": "https://localhost:8080/"
        },
        "id": "D0NScwozJpQf",
        "outputId": "a90349e2-f84c-420b-e51a-2da3f0ddb006"
      },
      "outputs": [
        {
          "name": "stdout",
          "output_type": "stream",
          "text": [
            "Окон на автора (до балансировки): {'Dostoevsky': 39405, 'Tolstoy': 31857, 'Turgenev': 8024, 'Chekhov': 6390, 'Gorky': 14866}\n",
            "Окон на автора (после балансировки): {'Dostoevsky': 6390, 'Tolstoy': 6390, 'Turgenev': 6390, 'Chekhov': 6390, 'Gorky': 6390}\n"
          ]
        }
      ],
      "source": [
        "def balance_sequences(sequences_by_author, strategy='undersample', target_windows=None, window_size=50, step=25):\n",
        "    \"\"\"\n",
        "    Возвращает dict author -> list of windows (каждое окно — list[int]).\n",
        "    strategy: 'undersample' (по минимальному числу окон) или 'upsample' (по максимальному)\n",
        "    target_windows: если указано — принудительно взять это количество окон на автора\n",
        "    \"\"\"\n",
        "    windows_by_author = {}\n",
        "    for author, seq in sequences_by_author.items():\n",
        "        # границы — берём только те индексы, где можно получить хотя бы одно окно\n",
        "        if len(seq) < window_size:\n",
        "            windows = []  # недостаточно данных\n",
        "        else:\n",
        "            windows = [seq[i:i+window_size] for i in range(0, len(seq) - window_size + 1, step)]\n",
        "        windows_by_author[author] = windows\n",
        "\n",
        "    counts = {a: len(windows_by_author[a]) for a in windows_by_author}\n",
        "    print(\"Окон на автора (до балансировки):\", counts)\n",
        "\n",
        "    # если target_windows явно указано — используем его\n",
        "    if target_windows is None:\n",
        "        if strategy == 'undersample':\n",
        "            target = min(counts.values()) if counts else 0\n",
        "        elif strategy == 'upsample':\n",
        "            target = max(counts.values()) if counts else 0\n",
        "        else:\n",
        "            raise ValueError(\"strategy must be 'undersample' or 'upsample'\")\n",
        "    else:\n",
        "        target = int(target_windows)\n",
        "\n",
        "    balanced = {}\n",
        "    for author, windows in windows_by_author.items():\n",
        "        n = len(windows)\n",
        "        if n == 0:\n",
        "            balanced[author] = []\n",
        "        elif n == target:\n",
        "            balanced[author] = windows\n",
        "        elif n > target:\n",
        "            # случайное уменьшение (детерминированное seed выше)\n",
        "            balanced[author] = random.sample(windows, target)\n",
        "        else:\n",
        "            # n < target -> дополняем с повторением\n",
        "            reps = target // n\n",
        "            rem = target % n\n",
        "            balanced[author] = windows * reps + random.sample(windows, rem) if n>0 else []\n",
        "    counts_after = {a: len(balanced[a]) for a in balanced}\n",
        "    print(\"Окон на автора (после балансировки):\", counts_after)\n",
        "    return balanced\n",
        "\n",
        "# Пример: задаём параметры окна\n",
        "WINDOW_SIZE = 100   # длина окна в токенах\n",
        "STEP = 50           # шаг (overlap = 50%)\n",
        "# выберем стратегию undersample (уменьшение до минимального кол-ва окон)\n",
        "balanced_windows = balance_sequences(sequences_by_author, strategy='undersample', window_size=WINDOW_SIZE, step=STEP)"
      ]
    },
    {
      "cell_type": "markdown",
      "metadata": {
        "id": "YXTJuP-KJrex"
      },
      "source": [
        "### Шаг 7. Нарезка примеров методом скользящего окна"
      ]
    },
    {
      "cell_type": "markdown",
      "metadata": {
        "id": "tIweH-fHeFlV"
      },
      "source": [
        "Разделяем длинные тексты на фрагменты фиксированной длины для обучения"
      ]
    },
    {
      "cell_type": "code",
      "execution_count": 13,
      "metadata": {
        "colab": {
          "base_uri": "https://localhost:8080/"
        },
        "id": "6AqVn4IrJtqu",
        "outputId": "ad5d7aa4-396c-4625-f456-8952d09a3479"
      },
      "outputs": [
        {
          "name": "stdout",
          "output_type": "stream",
          "text": [
            "Готово: примеров X: (31950, 100) меток y: (31950,)\n",
            "Mapping authors -> id: {'Chekhov': 0, 'Dostoevsky': 1, 'Gorky': 2, 'Tolstoy': 3, 'Turgenev': 4}\n"
          ]
        }
      ],
      "source": [
        "X = []\n",
        "y = []\n",
        "author_to_id = {a: i for i, a in enumerate(sorted(balanced_windows.keys()))}\n",
        "for author, windows in balanced_windows.items():\n",
        "    aid = author_to_id[author]\n",
        "    for w in windows:\n",
        "        if len(w) == WINDOW_SIZE:\n",
        "            X.append(w)\n",
        "            y.append(aid)\n",
        "\n",
        "X = np.array(X, dtype=np.int32)\n",
        "y = np.array(y, dtype=np.int32)\n",
        "print(\"Готово: примеров X:\", X.shape, \"меток y:\", y.shape)\n",
        "print(\"Mapping authors -> id:\", author_to_id)"
      ]
    },
    {
      "cell_type": "markdown",
      "metadata": {
        "id": "0ZupoxybJyBg"
      },
      "source": [
        "### Шаг 8. Вспомогательные функции"
      ]
    },
    {
      "cell_type": "code",
      "execution_count": 14,
      "metadata": {
        "colab": {
          "base_uri": "https://localhost:8080/"
        },
        "id": "8in0Ju7MKfYv",
        "outputId": "c15ab530-9a8c-4bfd-d542-5b419b5c68e8"
      },
      "outputs": [
        {
          "name": "stdout",
          "output_type": "stream",
          "text": [
            "Пример окна (первые 1): [   6 2461 1031 3543   14    7  666   10   72   22    2    7   46 3789\n",
            " 1093    3   56   99    1  704]\n",
            "Декодированное окно: что старец дам принимает ? – обратился он вдруг к . – из женский пол и теперь тут , вон\n",
            "Распределение по классам: {np.int32(0): 6390, np.int32(1): 6390, np.int32(2): 6390, np.int32(3): 6390, np.int32(4): 6390}\n"
          ]
        }
      ],
      "source": [
        "reverse_word_index = {v: k for k, v in tokenizer.word_index.items()}\n",
        "\n",
        "def decode_sequence(seq, unk_token='<?>'):\n",
        "    \"\"\"Преобразовать список индексов в строку слов (без паддинга)\"\"\"\n",
        "    return ' '.join([reverse_word_index.get(int(i), unk_token) for i in seq])\n",
        "\n",
        "def get_class_distribution(y_array):\n",
        "    cnt = Counter(y_array)\n",
        "    return {k: cnt[k] for k in sorted(cnt)}\n",
        "\n",
        "# Примеры вызова:\n",
        "print(\"Пример окна (первые 1):\", X[0][:20])\n",
        "print(\"Декодированное окно:\", decode_sequence(X[0][:20]))\n",
        "print(\"Распределение по классам:\", get_class_distribution(y))\n",
        "\n",
        "# Сохранение / случайное перемешивание перед обучением\n",
        "perm = np.random.permutation(len(X))\n",
        "X = X[perm]\n",
        "y = y[perm]"
      ]
    },
    {
      "cell_type": "markdown",
      "metadata": {
        "id": "tWp-VV9lLDWG"
      },
      "source": [
        "### Шаг 9. Загрузка весов и создание Embedding-матрицы"
      ]
    },
    {
      "cell_type": "code",
      "execution_count": 15,
      "metadata": {
        "colab": {
          "base_uri": "https://localhost:8080/"
        },
        "id": "PaT2lkDyLLUR",
        "outputId": "ae3b2830-f12c-4299-f149-f6d6324f1692"
      },
      "outputs": [
        {
          "name": "stdout",
          "output_type": "stream",
          "text": [
            "Embedding matrix shape: (30000, 300)\n"
          ]
        }
      ],
      "source": [
        "embedding_matrix = np.zeros((MAX_WORDS, EMBEDDING_DIM))\n",
        "\n",
        "for word, i in tokenizer.word_index.items():\n",
        "    if i >= MAX_WORDS:\n",
        "        continue\n",
        "    if word in navec:\n",
        "        embedding_matrix[i] = navec[word]\n",
        "    else:\n",
        "        # если слова нет в Navec — оставляем нулевой вектор\n",
        "        embedding_matrix[i] = np.random.normal(scale=0.6, size=(EMBEDDING_DIM,))\n",
        "\n",
        "print(f\"Embedding matrix shape: {embedding_matrix.shape}\")"
      ]
    },
    {
      "cell_type": "markdown",
      "metadata": {
        "id": "3X-F7ZeoLUqZ"
      },
      "source": [
        "### Шаг 10. Архитектура сети"
      ]
    },
    {
      "cell_type": "code",
      "execution_count": null,
      "metadata": {
        "colab": {
          "base_uri": "https://localhost:8080/"
        },
        "id": "f7a48c7f",
        "outputId": "d6bacfc8-867d-486a-ca46-dbc508ec6018"
      },
      "outputs": [],
      "source": [
        "!pip install gensim"
      ]
    },
    {
      "cell_type": "code",
      "execution_count": 31,
      "metadata": {
        "colab": {
          "base_uri": "https://localhost:8080/",
          "height": 816
        },
        "id": "yqb9kXroLdAl",
        "outputId": "9e4b489f-bcf5-4e3c-cc5d-f4eb5e2d651f"
      },
      "outputs": [
        {
          "data": {
            "text/html": [
              "<pre style=\"white-space:pre;overflow-x:auto;line-height:normal;font-family:Menlo,'DejaVu Sans Mono',consolas,'Courier New',monospace\"><span style=\"font-weight: bold\">Model: \"sequential_5\"</span>\n",
              "</pre>\n"
            ],
            "text/plain": [
              "\u001b[1mModel: \"sequential_5\"\u001b[0m\n"
            ]
          },
          "metadata": {},
          "output_type": "display_data"
        },
        {
          "data": {
            "text/html": [
              "<pre style=\"white-space:pre;overflow-x:auto;line-height:normal;font-family:Menlo,'DejaVu Sans Mono',consolas,'Courier New',monospace\">┏━━━━━━━━━━━━━━━━━━━━━━━━━━━━━━━━━┳━━━━━━━━━━━━━━━━━━━━━━━━┳━━━━━━━━━━━━━━━┓\n",
              "┃<span style=\"font-weight: bold\"> Layer (type)                    </span>┃<span style=\"font-weight: bold\"> Output Shape           </span>┃<span style=\"font-weight: bold\">       Param # </span>┃\n",
              "┡━━━━━━━━━━━━━━━━━━━━━━━━━━━━━━━━━╇━━━━━━━━━━━━━━━━━━━━━━━━╇━━━━━━━━━━━━━━━┩\n",
              "│ embedding_5 (<span style=\"color: #0087ff; text-decoration-color: #0087ff\">Embedding</span>)         │ ?                      │     <span style=\"color: #00af00; text-decoration-color: #00af00\">9,000,000</span> │\n",
              "├─────────────────────────────────┼────────────────────────┼───────────────┤\n",
              "│ spatial_dropout1d_5             │ ?                      │             <span style=\"color: #00af00; text-decoration-color: #00af00\">0</span> │\n",
              "│ (<span style=\"color: #0087ff; text-decoration-color: #0087ff\">SpatialDropout1D</span>)              │                        │               │\n",
              "├─────────────────────────────────┼────────────────────────┼───────────────┤\n",
              "│ batch_normalization_23          │ ?                      │   <span style=\"color: #00af00; text-decoration-color: #00af00\">0</span> (unbuilt) │\n",
              "│ (<span style=\"color: #0087ff; text-decoration-color: #0087ff\">BatchNormalization</span>)            │                        │               │\n",
              "├─────────────────────────────────┼────────────────────────┼───────────────┤\n",
              "│ bidirectional_5 (<span style=\"color: #0087ff; text-decoration-color: #0087ff\">Bidirectional</span>) │ ?                      │   <span style=\"color: #00af00; text-decoration-color: #00af00\">0</span> (unbuilt) │\n",
              "├─────────────────────────────────┼────────────────────────┼───────────────┤\n",
              "│ dropout_20 (<span style=\"color: #0087ff; text-decoration-color: #0087ff\">Dropout</span>)            │ ?                      │             <span style=\"color: #00af00; text-decoration-color: #00af00\">0</span> │\n",
              "├─────────────────────────────────┼────────────────────────┼───────────────┤\n",
              "│ batch_normalization_24          │ ?                      │   <span style=\"color: #00af00; text-decoration-color: #00af00\">0</span> (unbuilt) │\n",
              "│ (<span style=\"color: #0087ff; text-decoration-color: #0087ff\">BatchNormalization</span>)            │                        │               │\n",
              "├─────────────────────────────────┼────────────────────────┼───────────────┤\n",
              "│ gru_10 (<span style=\"color: #0087ff; text-decoration-color: #0087ff\">GRU</span>)                    │ ?                      │   <span style=\"color: #00af00; text-decoration-color: #00af00\">0</span> (unbuilt) │\n",
              "├─────────────────────────────────┼────────────────────────┼───────────────┤\n",
              "│ gru_11 (<span style=\"color: #0087ff; text-decoration-color: #0087ff\">GRU</span>)                    │ ?                      │   <span style=\"color: #00af00; text-decoration-color: #00af00\">0</span> (unbuilt) │\n",
              "├─────────────────────────────────┼────────────────────────┼───────────────┤\n",
              "│ dropout_21 (<span style=\"color: #0087ff; text-decoration-color: #0087ff\">Dropout</span>)            │ ?                      │             <span style=\"color: #00af00; text-decoration-color: #00af00\">0</span> │\n",
              "├─────────────────────────────────┼────────────────────────┼───────────────┤\n",
              "│ batch_normalization_25          │ ?                      │   <span style=\"color: #00af00; text-decoration-color: #00af00\">0</span> (unbuilt) │\n",
              "│ (<span style=\"color: #0087ff; text-decoration-color: #0087ff\">BatchNormalization</span>)            │                        │               │\n",
              "├─────────────────────────────────┼────────────────────────┼───────────────┤\n",
              "│ dense_15 (<span style=\"color: #0087ff; text-decoration-color: #0087ff\">Dense</span>)                │ ?                      │   <span style=\"color: #00af00; text-decoration-color: #00af00\">0</span> (unbuilt) │\n",
              "├─────────────────────────────────┼────────────────────────┼───────────────┤\n",
              "│ dropout_22 (<span style=\"color: #0087ff; text-decoration-color: #0087ff\">Dropout</span>)            │ ?                      │             <span style=\"color: #00af00; text-decoration-color: #00af00\">0</span> │\n",
              "├─────────────────────────────────┼────────────────────────┼───────────────┤\n",
              "│ batch_normalization_26          │ ?                      │   <span style=\"color: #00af00; text-decoration-color: #00af00\">0</span> (unbuilt) │\n",
              "│ (<span style=\"color: #0087ff; text-decoration-color: #0087ff\">BatchNormalization</span>)            │                        │               │\n",
              "├─────────────────────────────────┼────────────────────────┼───────────────┤\n",
              "│ dense_16 (<span style=\"color: #0087ff; text-decoration-color: #0087ff\">Dense</span>)                │ ?                      │   <span style=\"color: #00af00; text-decoration-color: #00af00\">0</span> (unbuilt) │\n",
              "├─────────────────────────────────┼────────────────────────┼───────────────┤\n",
              "│ dropout_23 (<span style=\"color: #0087ff; text-decoration-color: #0087ff\">Dropout</span>)            │ ?                      │             <span style=\"color: #00af00; text-decoration-color: #00af00\">0</span> │\n",
              "├─────────────────────────────────┼────────────────────────┼───────────────┤\n",
              "│ batch_normalization_27          │ ?                      │   <span style=\"color: #00af00; text-decoration-color: #00af00\">0</span> (unbuilt) │\n",
              "│ (<span style=\"color: #0087ff; text-decoration-color: #0087ff\">BatchNormalization</span>)            │                        │               │\n",
              "├─────────────────────────────────┼────────────────────────┼───────────────┤\n",
              "│ dense_17 (<span style=\"color: #0087ff; text-decoration-color: #0087ff\">Dense</span>)                │ ?                      │   <span style=\"color: #00af00; text-decoration-color: #00af00\">0</span> (unbuilt) │\n",
              "└─────────────────────────────────┴────────────────────────┴───────────────┘\n",
              "</pre>\n"
            ],
            "text/plain": [
              "┏━━━━━━━━━━━━━━━━━━━━━━━━━━━━━━━━━┳━━━━━━━━━━━━━━━━━━━━━━━━┳━━━━━━━━━━━━━━━┓\n",
              "┃\u001b[1m \u001b[0m\u001b[1mLayer (type)                   \u001b[0m\u001b[1m \u001b[0m┃\u001b[1m \u001b[0m\u001b[1mOutput Shape          \u001b[0m\u001b[1m \u001b[0m┃\u001b[1m \u001b[0m\u001b[1m      Param #\u001b[0m\u001b[1m \u001b[0m┃\n",
              "┡━━━━━━━━━━━━━━━━━━━━━━━━━━━━━━━━━╇━━━━━━━━━━━━━━━━━━━━━━━━╇━━━━━━━━━━━━━━━┩\n",
              "│ embedding_5 (\u001b[38;5;33mEmbedding\u001b[0m)         │ ?                      │     \u001b[38;5;34m9,000,000\u001b[0m │\n",
              "├─────────────────────────────────┼────────────────────────┼───────────────┤\n",
              "│ spatial_dropout1d_5             │ ?                      │             \u001b[38;5;34m0\u001b[0m │\n",
              "│ (\u001b[38;5;33mSpatialDropout1D\u001b[0m)              │                        │               │\n",
              "├─────────────────────────────────┼────────────────────────┼───────────────┤\n",
              "│ batch_normalization_23          │ ?                      │   \u001b[38;5;34m0\u001b[0m (unbuilt) │\n",
              "│ (\u001b[38;5;33mBatchNormalization\u001b[0m)            │                        │               │\n",
              "├─────────────────────────────────┼────────────────────────┼───────────────┤\n",
              "│ bidirectional_5 (\u001b[38;5;33mBidirectional\u001b[0m) │ ?                      │   \u001b[38;5;34m0\u001b[0m (unbuilt) │\n",
              "├─────────────────────────────────┼────────────────────────┼───────────────┤\n",
              "│ dropout_20 (\u001b[38;5;33mDropout\u001b[0m)            │ ?                      │             \u001b[38;5;34m0\u001b[0m │\n",
              "├─────────────────────────────────┼────────────────────────┼───────────────┤\n",
              "│ batch_normalization_24          │ ?                      │   \u001b[38;5;34m0\u001b[0m (unbuilt) │\n",
              "│ (\u001b[38;5;33mBatchNormalization\u001b[0m)            │                        │               │\n",
              "├─────────────────────────────────┼────────────────────────┼───────────────┤\n",
              "│ gru_10 (\u001b[38;5;33mGRU\u001b[0m)                    │ ?                      │   \u001b[38;5;34m0\u001b[0m (unbuilt) │\n",
              "├─────────────────────────────────┼────────────────────────┼───────────────┤\n",
              "│ gru_11 (\u001b[38;5;33mGRU\u001b[0m)                    │ ?                      │   \u001b[38;5;34m0\u001b[0m (unbuilt) │\n",
              "├─────────────────────────────────┼────────────────────────┼───────────────┤\n",
              "│ dropout_21 (\u001b[38;5;33mDropout\u001b[0m)            │ ?                      │             \u001b[38;5;34m0\u001b[0m │\n",
              "├─────────────────────────────────┼────────────────────────┼───────────────┤\n",
              "│ batch_normalization_25          │ ?                      │   \u001b[38;5;34m0\u001b[0m (unbuilt) │\n",
              "│ (\u001b[38;5;33mBatchNormalization\u001b[0m)            │                        │               │\n",
              "├─────────────────────────────────┼────────────────────────┼───────────────┤\n",
              "│ dense_15 (\u001b[38;5;33mDense\u001b[0m)                │ ?                      │   \u001b[38;5;34m0\u001b[0m (unbuilt) │\n",
              "├─────────────────────────────────┼────────────────────────┼───────────────┤\n",
              "│ dropout_22 (\u001b[38;5;33mDropout\u001b[0m)            │ ?                      │             \u001b[38;5;34m0\u001b[0m │\n",
              "├─────────────────────────────────┼────────────────────────┼───────────────┤\n",
              "│ batch_normalization_26          │ ?                      │   \u001b[38;5;34m0\u001b[0m (unbuilt) │\n",
              "│ (\u001b[38;5;33mBatchNormalization\u001b[0m)            │                        │               │\n",
              "├─────────────────────────────────┼────────────────────────┼───────────────┤\n",
              "│ dense_16 (\u001b[38;5;33mDense\u001b[0m)                │ ?                      │   \u001b[38;5;34m0\u001b[0m (unbuilt) │\n",
              "├─────────────────────────────────┼────────────────────────┼───────────────┤\n",
              "│ dropout_23 (\u001b[38;5;33mDropout\u001b[0m)            │ ?                      │             \u001b[38;5;34m0\u001b[0m │\n",
              "├─────────────────────────────────┼────────────────────────┼───────────────┤\n",
              "│ batch_normalization_27          │ ?                      │   \u001b[38;5;34m0\u001b[0m (unbuilt) │\n",
              "│ (\u001b[38;5;33mBatchNormalization\u001b[0m)            │                        │               │\n",
              "├─────────────────────────────────┼────────────────────────┼───────────────┤\n",
              "│ dense_17 (\u001b[38;5;33mDense\u001b[0m)                │ ?                      │   \u001b[38;5;34m0\u001b[0m (unbuilt) │\n",
              "└─────────────────────────────────┴────────────────────────┴───────────────┘\n"
            ]
          },
          "metadata": {},
          "output_type": "display_data"
        },
        {
          "data": {
            "text/html": [
              "<pre style=\"white-space:pre;overflow-x:auto;line-height:normal;font-family:Menlo,'DejaVu Sans Mono',consolas,'Courier New',monospace\"><span style=\"font-weight: bold\"> Total params: </span><span style=\"color: #00af00; text-decoration-color: #00af00\">9,000,000</span> (34.33 MB)\n",
              "</pre>\n"
            ],
            "text/plain": [
              "\u001b[1m Total params: \u001b[0m\u001b[38;5;34m9,000,000\u001b[0m (34.33 MB)\n"
            ]
          },
          "metadata": {},
          "output_type": "display_data"
        },
        {
          "data": {
            "text/html": [
              "<pre style=\"white-space:pre;overflow-x:auto;line-height:normal;font-family:Menlo,'DejaVu Sans Mono',consolas,'Courier New',monospace\"><span style=\"font-weight: bold\"> Trainable params: </span><span style=\"color: #00af00; text-decoration-color: #00af00\">0</span> (0.00 B)\n",
              "</pre>\n"
            ],
            "text/plain": [
              "\u001b[1m Trainable params: \u001b[0m\u001b[38;5;34m0\u001b[0m (0.00 B)\n"
            ]
          },
          "metadata": {},
          "output_type": "display_data"
        },
        {
          "data": {
            "text/html": [
              "<pre style=\"white-space:pre;overflow-x:auto;line-height:normal;font-family:Menlo,'DejaVu Sans Mono',consolas,'Courier New',monospace\"><span style=\"font-weight: bold\"> Non-trainable params: </span><span style=\"color: #00af00; text-decoration-color: #00af00\">9,000,000</span> (34.33 MB)\n",
              "</pre>\n"
            ],
            "text/plain": [
              "\u001b[1m Non-trainable params: \u001b[0m\u001b[38;5;34m9,000,000\u001b[0m (34.33 MB)\n"
            ]
          },
          "metadata": {},
          "output_type": "display_data"
        }
      ],
      "source": [
        "from gensim.models import KeyedVectors\n",
        "from keras import models, layers\n",
        "from gensim.models import KeyedVectors\n",
        "import tensorflow as tf\n",
        "from keras.layers import Bidirectional, GRU, LSTM, SpatialDropout1D, BatchNormalization, Dropout, Dense, GlobalAveragePooling1D\n",
        "\n",
        "num_classes = len(author_to_id)\n",
        "\n",
        "model = models.Sequential([\n",
        "    layers.Embedding(\n",
        "        input_dim=MAX_WORDS,\n",
        "        output_dim=EMBEDDING_DIM,\n",
        "        weights=[embedding_matrix],\n",
        "        input_length=X.shape[1],\n",
        "        trainable=False  # ❄️ замораживаем слой\n",
        "    ),\n",
        "    layers.SpatialDropout1D(0.3),\n",
        "    layers.BatchNormalization(),\n",
        "    layers.Bidirectional(LSTM(32, return_sequences=True)),\n",
        "    layers.Dropout(0.3),\n",
        "    layers.BatchNormalization(),\n",
        "\n",
        "    layers.GRU(64, return_sequences=True, reset_after=True),\n",
        "    layers.GRU(64, reset_after=True),\n",
        "    layers.Dropout(0.3),\n",
        "    layers.BatchNormalization(),\n",
        "\n",
        "    layers.Dense(512, activation='relu'),\n",
        "    layers.Dropout(0.4),\n",
        "    layers.BatchNormalization(),\n",
        "    layers.Dense(128, activation='relu'),\n",
        "    layers.Dropout(0.3),\n",
        "    layers.BatchNormalization(),\n",
        "    layers.Dense(num_classes, activation='softmax')\n",
        "])\n",
        "\n",
        "model.compile(\n",
        "    optimizer='adam',\n",
        "    loss='sparse_categorical_crossentropy',\n",
        "    metrics=['accuracy']\n",
        ")\n",
        "\n",
        "model.summary()"
      ]
    },
    {
      "cell_type": "markdown",
      "metadata": {
        "id": "TzLDMmYANJJA"
      },
      "source": [
        "**Разделение данных на train/val/test**"
      ]
    },
    {
      "cell_type": "code",
      "execution_count": 18,
      "metadata": {
        "colab": {
          "base_uri": "https://localhost:8080/"
        },
        "id": "_CLvJKMrNLYq",
        "outputId": "a3b4bb0e-3d65-40f8-ce63-d0af997ea2c2"
      },
      "outputs": [
        {
          "name": "stdout",
          "output_type": "stream",
          "text": [
            "Train: 25560, Val: 3195, Test: 3195\n"
          ]
        }
      ],
      "source": [
        "from sklearn.model_selection import train_test_split\n",
        "import numpy as np\n",
        "\n",
        "# Стратифицированное разделение\n",
        "X_train, X_temp, y_train, y_temp = train_test_split(\n",
        "    X, y, test_size=0.2, random_state=42, stratify=y\n",
        ")\n",
        "X_val, X_test, y_val, y_test = train_test_split(\n",
        "    X_temp, y_temp, test_size=0.5, random_state=42, stratify=y_temp\n",
        ")\n",
        "\n",
        "print(f\"Train: {len(X_train)}, Val: {len(X_val)}, Test: {len(X_test)}\")"
      ]
    },
    {
      "cell_type": "markdown",
      "metadata": {
        "id": "KoNae5haW3gh"
      },
      "source": [
        "**ReduceLROnPlateau**"
      ]
    },
    {
      "cell_type": "code",
      "execution_count": 19,
      "metadata": {
        "id": "4FZVoU_wW6Dg"
      },
      "outputs": [],
      "source": [
        "from tensorflow.keras.callbacks import ReduceLROnPlateau\n",
        "\n",
        "reduce_lr = ReduceLROnPlateau(\n",
        "    monitor='val_accuracy',\n",
        "    factor=0.5,\n",
        "    patience=2,\n",
        "    min_lr=1e-5,\n",
        "    verbose=1\n",
        ")"
      ]
    },
    {
      "cell_type": "markdown",
      "metadata": {
        "id": "pjy0lWwrNPcv"
      },
      "source": [
        "**Callback для сохранения лучшей эпохи**"
      ]
    },
    {
      "cell_type": "code",
      "execution_count": 20,
      "metadata": {
        "id": "dXrPqJCvNRif"
      },
      "outputs": [],
      "source": [
        "from tensorflow.keras.callbacks import ModelCheckpoint\n",
        "\n",
        "checkpoint = ModelCheckpoint(\n",
        "    filepath='best_model.keras',   # файл, куда сохраняем модель\n",
        "    monitor='val_accuracy',        # по какой метрике выбираем лучшую\n",
        "    save_best_only=True,           # сохраняем только лучшую\n",
        "    mode='max',                    # максимизируем accuracy\n",
        "    verbose=1\n",
        ")"
      ]
    },
    {
      "cell_type": "markdown",
      "metadata": {
        "id": "7xNk3xUuNUbi"
      },
      "source": [
        "**Обучение модели**"
      ]
    },
    {
      "cell_type": "code",
      "execution_count": 32,
      "metadata": {
        "colab": {
          "base_uri": "https://localhost:8080/"
        },
        "id": "pOKb4UGHNWqg",
        "outputId": "650a256c-d9fc-48dc-ae15-856086cc914d"
      },
      "outputs": [
        {
          "name": "stdout",
          "output_type": "stream",
          "text": [
            "Epoch 1/30\n",
            "\u001b[1m200/200\u001b[0m \u001b[32m━━━━━━━━━━━━━━━━━━━━\u001b[0m\u001b[37m\u001b[0m \u001b[1m0s\u001b[0m 703ms/step - accuracy: 0.2534 - loss: 1.8999\n",
            "Epoch 1: val_accuracy did not improve from 0.93897\n",
            "\u001b[1m200/200\u001b[0m \u001b[32m━━━━━━━━━━━━━━━━━━━━\u001b[0m\u001b[37m\u001b[0m \u001b[1m161s\u001b[0m 737ms/step - accuracy: 0.2536 - loss: 1.8989 - val_accuracy: 0.4388 - val_loss: 1.3121 - learning_rate: 0.0010\n",
            "Epoch 2/30\n",
            "\u001b[1m200/200\u001b[0m \u001b[32m━━━━━━━━━━━━━━━━━━━━\u001b[0m\u001b[37m\u001b[0m \u001b[1m0s\u001b[0m 706ms/step - accuracy: 0.3997 - loss: 1.3594\n",
            "Epoch 2: val_accuracy did not improve from 0.93897\n",
            "\u001b[1m200/200\u001b[0m \u001b[32m━━━━━━━━━━━━━━━━━━━━\u001b[0m\u001b[37m\u001b[0m \u001b[1m146s\u001b[0m 732ms/step - accuracy: 0.3999 - loss: 1.3590 - val_accuracy: 0.5681 - val_loss: 1.0541 - learning_rate: 0.0010\n",
            "Epoch 3/30\n",
            "\u001b[1m200/200\u001b[0m \u001b[32m━━━━━━━━━━━━━━━━━━━━\u001b[0m\u001b[37m\u001b[0m \u001b[1m0s\u001b[0m 702ms/step - accuracy: 0.5492 - loss: 1.0866\n",
            "Epoch 3: val_accuracy did not improve from 0.93897\n",
            "\u001b[1m200/200\u001b[0m \u001b[32m━━━━━━━━━━━━━━━━━━━━\u001b[0m\u001b[37m\u001b[0m \u001b[1m146s\u001b[0m 730ms/step - accuracy: 0.5494 - loss: 1.0863 - val_accuracy: 0.7045 - val_loss: 0.7842 - learning_rate: 0.0010\n",
            "Epoch 4/30\n",
            "\u001b[1m200/200\u001b[0m \u001b[32m━━━━━━━━━━━━━━━━━━━━\u001b[0m\u001b[37m\u001b[0m \u001b[1m0s\u001b[0m 686ms/step - accuracy: 0.6775 - loss: 0.8628\n",
            "Epoch 4: val_accuracy did not improve from 0.93897\n",
            "\u001b[1m200/200\u001b[0m \u001b[32m━━━━━━━━━━━━━━━━━━━━\u001b[0m\u001b[37m\u001b[0m \u001b[1m142s\u001b[0m 708ms/step - accuracy: 0.6776 - loss: 0.8626 - val_accuracy: 0.7668 - val_loss: 0.6667 - learning_rate: 0.0010\n",
            "Epoch 5/30\n",
            "\u001b[1m200/200\u001b[0m \u001b[32m━━━━━━━━━━━━━━━━━━━━\u001b[0m\u001b[37m\u001b[0m \u001b[1m0s\u001b[0m 741ms/step - accuracy: 0.7466 - loss: 0.7129\n",
            "Epoch 5: val_accuracy did not improve from 0.93897\n",
            "\u001b[1m200/200\u001b[0m \u001b[32m━━━━━━━━━━━━━━━━━━━━\u001b[0m\u001b[37m\u001b[0m \u001b[1m153s\u001b[0m 764ms/step - accuracy: 0.7466 - loss: 0.7127 - val_accuracy: 0.8419 - val_loss: 0.4588 - learning_rate: 0.0010\n",
            "Epoch 6/30\n",
            "\u001b[1m200/200\u001b[0m \u001b[32m━━━━━━━━━━━━━━━━━━━━\u001b[0m\u001b[37m\u001b[0m \u001b[1m0s\u001b[0m 698ms/step - accuracy: 0.7959 - loss: 0.5783\n",
            "Epoch 6: val_accuracy did not improve from 0.93897\n",
            "\u001b[1m200/200\u001b[0m \u001b[32m━━━━━━━━━━━━━━━━━━━━\u001b[0m\u001b[37m\u001b[0m \u001b[1m145s\u001b[0m 723ms/step - accuracy: 0.7959 - loss: 0.5781 - val_accuracy: 0.8679 - val_loss: 0.3785 - learning_rate: 0.0010\n",
            "Epoch 7/30\n",
            "\u001b[1m200/200\u001b[0m \u001b[32m━━━━━━━━━━━━━━━━━━━━\u001b[0m\u001b[37m\u001b[0m \u001b[1m0s\u001b[0m 706ms/step - accuracy: 0.8359 - loss: 0.4748\n",
            "Epoch 7: val_accuracy did not improve from 0.93897\n",
            "\u001b[1m200/200\u001b[0m \u001b[32m━━━━━━━━━━━━━━━━━━━━\u001b[0m\u001b[37m\u001b[0m \u001b[1m203s\u001b[0m 728ms/step - accuracy: 0.8358 - loss: 0.4748 - val_accuracy: 0.8623 - val_loss: 0.3766 - learning_rate: 0.0010\n",
            "Epoch 8/30\n",
            "\u001b[1m200/200\u001b[0m \u001b[32m━━━━━━━━━━━━━━━━━━━━\u001b[0m\u001b[37m\u001b[0m \u001b[1m0s\u001b[0m 703ms/step - accuracy: 0.8469 - loss: 0.4329\n",
            "Epoch 8: val_accuracy did not improve from 0.93897\n",
            "\u001b[1m200/200\u001b[0m \u001b[32m━━━━━━━━━━━━━━━━━━━━\u001b[0m\u001b[37m\u001b[0m \u001b[1m146s\u001b[0m 729ms/step - accuracy: 0.8469 - loss: 0.4328 - val_accuracy: 0.8892 - val_loss: 0.3152 - learning_rate: 0.0010\n",
            "Epoch 9/30\n",
            "\u001b[1m200/200\u001b[0m \u001b[32m━━━━━━━━━━━━━━━━━━━━\u001b[0m\u001b[37m\u001b[0m \u001b[1m0s\u001b[0m 706ms/step - accuracy: 0.8632 - loss: 0.3911\n",
            "Epoch 9: val_accuracy did not improve from 0.93897\n",
            "\u001b[1m200/200\u001b[0m \u001b[32m━━━━━━━━━━━━━━━━━━━━\u001b[0m\u001b[37m\u001b[0m \u001b[1m146s\u001b[0m 729ms/step - accuracy: 0.8633 - loss: 0.3911 - val_accuracy: 0.8989 - val_loss: 0.2798 - learning_rate: 0.0010\n",
            "Epoch 10/30\n",
            "\u001b[1m200/200\u001b[0m \u001b[32m━━━━━━━━━━━━━━━━━━━━\u001b[0m\u001b[37m\u001b[0m \u001b[1m0s\u001b[0m 699ms/step - accuracy: 0.8816 - loss: 0.3466\n",
            "Epoch 10: val_accuracy did not improve from 0.93897\n",
            "\u001b[1m200/200\u001b[0m \u001b[32m━━━━━━━━━━━━━━━━━━━━\u001b[0m\u001b[37m\u001b[0m \u001b[1m200s\u001b[0m 722ms/step - accuracy: 0.8816 - loss: 0.3466 - val_accuracy: 0.8992 - val_loss: 0.2871 - learning_rate: 0.0010\n",
            "Epoch 11/30\n",
            "\u001b[1m200/200\u001b[0m \u001b[32m━━━━━━━━━━━━━━━━━━━━\u001b[0m\u001b[37m\u001b[0m \u001b[1m0s\u001b[0m 701ms/step - accuracy: 0.8865 - loss: 0.3341\n",
            "Epoch 11: val_accuracy did not improve from 0.93897\n",
            "\u001b[1m200/200\u001b[0m \u001b[32m━━━━━━━━━━━━━━━━━━━━\u001b[0m\u001b[37m\u001b[0m \u001b[1m146s\u001b[0m 728ms/step - accuracy: 0.8865 - loss: 0.3341 - val_accuracy: 0.9008 - val_loss: 0.2716 - learning_rate: 0.0010\n",
            "Epoch 12/30\n",
            "\u001b[1m200/200\u001b[0m \u001b[32m━━━━━━━━━━━━━━━━━━━━\u001b[0m\u001b[37m\u001b[0m \u001b[1m0s\u001b[0m 687ms/step - accuracy: 0.8958 - loss: 0.2941\n",
            "Epoch 12: val_accuracy did not improve from 0.93897\n",
            "\u001b[1m200/200\u001b[0m \u001b[32m━━━━━━━━━━━━━━━━━━━━\u001b[0m\u001b[37m\u001b[0m \u001b[1m142s\u001b[0m 709ms/step - accuracy: 0.8958 - loss: 0.2941 - val_accuracy: 0.9189 - val_loss: 0.2225 - learning_rate: 0.0010\n",
            "Epoch 13/30\n",
            "\u001b[1m200/200\u001b[0m \u001b[32m━━━━━━━━━━━━━━━━━━━━\u001b[0m\u001b[37m\u001b[0m \u001b[1m0s\u001b[0m 693ms/step - accuracy: 0.9088 - loss: 0.2754\n",
            "Epoch 13: val_accuracy did not improve from 0.93897\n",
            "\u001b[1m200/200\u001b[0m \u001b[32m━━━━━━━━━━━━━━━━━━━━\u001b[0m\u001b[37m\u001b[0m \u001b[1m143s\u001b[0m 716ms/step - accuracy: 0.9088 - loss: 0.2754 - val_accuracy: 0.9152 - val_loss: 0.2384 - learning_rate: 0.0010\n",
            "Epoch 14/30\n",
            "\u001b[1m200/200\u001b[0m \u001b[32m━━━━━━━━━━━━━━━━━━━━\u001b[0m\u001b[37m\u001b[0m \u001b[1m0s\u001b[0m 680ms/step - accuracy: 0.9137 - loss: 0.2527\n",
            "Epoch 14: val_accuracy did not improve from 0.93897\n",
            "\n",
            "Epoch 14: ReduceLROnPlateau reducing learning rate to 0.0005000000237487257.\n",
            "\u001b[1m200/200\u001b[0m \u001b[32m━━━━━━━━━━━━━━━━━━━━\u001b[0m\u001b[37m\u001b[0m \u001b[1m206s\u001b[0m 732ms/step - accuracy: 0.9137 - loss: 0.2527 - val_accuracy: 0.9149 - val_loss: 0.2355 - learning_rate: 0.0010\n",
            "Epoch 15/30\n",
            "\u001b[1m200/200\u001b[0m \u001b[32m━━━━━━━━━━━━━━━━━━━━\u001b[0m\u001b[37m\u001b[0m \u001b[1m0s\u001b[0m 703ms/step - accuracy: 0.9156 - loss: 0.2363\n",
            "Epoch 15: val_accuracy did not improve from 0.93897\n",
            "\u001b[1m200/200\u001b[0m \u001b[32m━━━━━━━━━━━━━━━━━━━━\u001b[0m\u001b[37m\u001b[0m \u001b[1m146s\u001b[0m 731ms/step - accuracy: 0.9157 - loss: 0.2363 - val_accuracy: 0.9236 - val_loss: 0.2171 - learning_rate: 5.0000e-04\n",
            "Epoch 16/30\n",
            "\u001b[1m200/200\u001b[0m \u001b[32m━━━━━━━━━━━━━━━━━━━━\u001b[0m\u001b[37m\u001b[0m \u001b[1m0s\u001b[0m 702ms/step - accuracy: 0.9160 - loss: 0.2392\n",
            "Epoch 16: val_accuracy did not improve from 0.93897\n",
            "\u001b[1m200/200\u001b[0m \u001b[32m━━━━━━━━━━━━━━━━━━━━\u001b[0m\u001b[37m\u001b[0m \u001b[1m201s\u001b[0m 725ms/step - accuracy: 0.9161 - loss: 0.2391 - val_accuracy: 0.9290 - val_loss: 0.2061 - learning_rate: 5.0000e-04\n",
            "Epoch 17/30\n",
            "\u001b[1m200/200\u001b[0m \u001b[32m━━━━━━━━━━━━━━━━━━━━\u001b[0m\u001b[37m\u001b[0m \u001b[1m0s\u001b[0m 704ms/step - accuracy: 0.9277 - loss: 0.2112\n",
            "Epoch 17: val_accuracy did not improve from 0.93897\n",
            "\u001b[1m200/200\u001b[0m \u001b[32m━━━━━━━━━━━━━━━━━━━━\u001b[0m\u001b[37m\u001b[0m \u001b[1m145s\u001b[0m 727ms/step - accuracy: 0.9276 - loss: 0.2112 - val_accuracy: 0.9246 - val_loss: 0.2179 - learning_rate: 5.0000e-04\n",
            "Epoch 18/30\n",
            "\u001b[1m200/200\u001b[0m \u001b[32m━━━━━━━━━━━━━━━━━━━━\u001b[0m\u001b[37m\u001b[0m \u001b[1m0s\u001b[0m 690ms/step - accuracy: 0.9280 - loss: 0.2099\n",
            "Epoch 18: val_accuracy did not improve from 0.93897\n",
            "\n",
            "Epoch 18: ReduceLROnPlateau reducing learning rate to 0.0002500000118743628.\n",
            "\u001b[1m200/200\u001b[0m \u001b[32m━━━━━━━━━━━━━━━━━━━━\u001b[0m\u001b[37m\u001b[0m \u001b[1m149s\u001b[0m 742ms/step - accuracy: 0.9280 - loss: 0.2099 - val_accuracy: 0.9274 - val_loss: 0.1949 - learning_rate: 5.0000e-04\n",
            "Epoch 19/30\n",
            "\u001b[1m200/200\u001b[0m \u001b[32m━━━━━━━━━━━━━━━━━━━━\u001b[0m\u001b[37m\u001b[0m \u001b[1m0s\u001b[0m 709ms/step - accuracy: 0.9356 - loss: 0.1904\n",
            "Epoch 19: val_accuracy did not improve from 0.93897\n",
            "\u001b[1m200/200\u001b[0m \u001b[32m━━━━━━━━━━━━━━━━━━━━\u001b[0m\u001b[37m\u001b[0m \u001b[1m200s\u001b[0m 735ms/step - accuracy: 0.9356 - loss: 0.1904 - val_accuracy: 0.9374 - val_loss: 0.1817 - learning_rate: 2.5000e-04\n",
            "Epoch 20/30\n",
            "\u001b[1m200/200\u001b[0m \u001b[32m━━━━━━━━━━━━━━━━━━━━\u001b[0m\u001b[37m\u001b[0m \u001b[1m0s\u001b[0m 701ms/step - accuracy: 0.9353 - loss: 0.1869\n",
            "Epoch 20: val_accuracy did not improve from 0.93897\n",
            "\u001b[1m200/200\u001b[0m \u001b[32m━━━━━━━━━━━━━━━━━━━━\u001b[0m\u001b[37m\u001b[0m \u001b[1m201s\u001b[0m 729ms/step - accuracy: 0.9353 - loss: 0.1869 - val_accuracy: 0.9352 - val_loss: 0.1791 - learning_rate: 2.5000e-04\n",
            "Epoch 21/30\n",
            "\u001b[1m200/200\u001b[0m \u001b[32m━━━━━━━━━━━━━━━━━━━━\u001b[0m\u001b[37m\u001b[0m \u001b[1m0s\u001b[0m 692ms/step - accuracy: 0.9368 - loss: 0.1859\n",
            "Epoch 21: val_accuracy did not improve from 0.93897\n",
            "\u001b[1m200/200\u001b[0m \u001b[32m━━━━━━━━━━━━━━━━━━━━\u001b[0m\u001b[37m\u001b[0m \u001b[1m143s\u001b[0m 714ms/step - accuracy: 0.9368 - loss: 0.1859 - val_accuracy: 0.9377 - val_loss: 0.1800 - learning_rate: 2.5000e-04\n",
            "Epoch 22/30\n",
            "\u001b[1m200/200\u001b[0m \u001b[32m━━━━━━━━━━━━━━━━━━━━\u001b[0m\u001b[37m\u001b[0m \u001b[1m0s\u001b[0m 689ms/step - accuracy: 0.9371 - loss: 0.1787\n",
            "Epoch 22: val_accuracy did not improve from 0.93897\n",
            "\u001b[1m200/200\u001b[0m \u001b[32m━━━━━━━━━━━━━━━━━━━━\u001b[0m\u001b[37m\u001b[0m \u001b[1m142s\u001b[0m 711ms/step - accuracy: 0.9371 - loss: 0.1787 - val_accuracy: 0.9336 - val_loss: 0.1794 - learning_rate: 2.5000e-04\n",
            "Epoch 23/30\n",
            "\u001b[1m200/200\u001b[0m \u001b[32m━━━━━━━━━━━━━━━━━━━━\u001b[0m\u001b[37m\u001b[0m \u001b[1m0s\u001b[0m 698ms/step - accuracy: 0.9412 - loss: 0.1705\n",
            "Epoch 23: val_accuracy did not improve from 0.93897\n",
            "\n",
            "Epoch 23: ReduceLROnPlateau reducing learning rate to 0.0001250000059371814.\n",
            "\u001b[1m200/200\u001b[0m \u001b[32m━━━━━━━━━━━━━━━━━━━━\u001b[0m\u001b[37m\u001b[0m \u001b[1m205s\u001b[0m 725ms/step - accuracy: 0.9411 - loss: 0.1706 - val_accuracy: 0.9377 - val_loss: 0.1813 - learning_rate: 2.5000e-04\n",
            "Epoch 24/30\n",
            "\u001b[1m200/200\u001b[0m \u001b[32m━━━━━━━━━━━━━━━━━━━━\u001b[0m\u001b[37m\u001b[0m \u001b[1m0s\u001b[0m 688ms/step - accuracy: 0.9404 - loss: 0.1746\n",
            "Epoch 24: val_accuracy did not improve from 0.93897\n",
            "\u001b[1m200/200\u001b[0m \u001b[32m━━━━━━━━━━━━━━━━━━━━\u001b[0m\u001b[37m\u001b[0m \u001b[1m198s\u001b[0m 710ms/step - accuracy: 0.9404 - loss: 0.1745 - val_accuracy: 0.9380 - val_loss: 0.1732 - learning_rate: 1.2500e-04\n",
            "Epoch 25/30\n",
            "\u001b[1m200/200\u001b[0m \u001b[32m━━━━━━━━━━━━━━━━━━━━\u001b[0m\u001b[37m\u001b[0m \u001b[1m0s\u001b[0m 700ms/step - accuracy: 0.9453 - loss: 0.1624\n",
            "Epoch 25: val_accuracy improved from 0.93897 to 0.93928, saving model to best_model.keras\n",
            "\u001b[1m200/200\u001b[0m \u001b[32m━━━━━━━━━━━━━━━━━━━━\u001b[0m\u001b[37m\u001b[0m \u001b[1m146s\u001b[0m 730ms/step - accuracy: 0.9453 - loss: 0.1624 - val_accuracy: 0.9393 - val_loss: 0.1823 - learning_rate: 1.2500e-04\n",
            "Epoch 26/30\n",
            "\u001b[1m200/200\u001b[0m \u001b[32m━━━━━━━━━━━━━━━━━━━━\u001b[0m\u001b[37m\u001b[0m \u001b[1m0s\u001b[0m 702ms/step - accuracy: 0.9454 - loss: 0.1601\n",
            "Epoch 26: val_accuracy did not improve from 0.93928\n",
            "\u001b[1m200/200\u001b[0m \u001b[32m━━━━━━━━━━━━━━━━━━━━\u001b[0m\u001b[37m\u001b[0m \u001b[1m145s\u001b[0m 725ms/step - accuracy: 0.9454 - loss: 0.1601 - val_accuracy: 0.9387 - val_loss: 0.1784 - learning_rate: 1.2500e-04\n",
            "Epoch 27/30\n",
            "\u001b[1m200/200\u001b[0m \u001b[32m━━━━━━━━━━━━━━━━━━━━\u001b[0m\u001b[37m\u001b[0m \u001b[1m0s\u001b[0m 740ms/step - accuracy: 0.9456 - loss: 0.1622\n",
            "Epoch 27: val_accuracy did not improve from 0.93928\n",
            "\n",
            "Epoch 27: ReduceLROnPlateau reducing learning rate to 6.25000029685907e-05.\n",
            "\u001b[1m200/200\u001b[0m \u001b[32m━━━━━━━━━━━━━━━━━━━━\u001b[0m\u001b[37m\u001b[0m \u001b[1m153s\u001b[0m 764ms/step - accuracy: 0.9455 - loss: 0.1622 - val_accuracy: 0.9340 - val_loss: 0.1860 - learning_rate: 1.2500e-04\n",
            "Epoch 28/30\n",
            "\u001b[1m200/200\u001b[0m \u001b[32m━━━━━━━━━━━━━━━━━━━━\u001b[0m\u001b[37m\u001b[0m \u001b[1m0s\u001b[0m 710ms/step - accuracy: 0.9457 - loss: 0.1622\n",
            "Epoch 28: val_accuracy did not improve from 0.93928\n",
            "\u001b[1m200/200\u001b[0m \u001b[32m━━━━━━━━━━━━━━━━━━━━\u001b[0m\u001b[37m\u001b[0m \u001b[1m197s\u001b[0m 736ms/step - accuracy: 0.9457 - loss: 0.1622 - val_accuracy: 0.9390 - val_loss: 0.1717 - learning_rate: 6.2500e-05\n",
            "Epoch 29/30\n",
            "\u001b[1m200/200\u001b[0m \u001b[32m━━━━━━━━━━━━━━━━━━━━\u001b[0m\u001b[37m\u001b[0m \u001b[1m0s\u001b[0m 720ms/step - accuracy: 0.9489 - loss: 0.1534\n",
            "Epoch 29: val_accuracy did not improve from 0.93928\n",
            "\n",
            "Epoch 29: ReduceLROnPlateau reducing learning rate to 3.125000148429535e-05.\n",
            "\u001b[1m200/200\u001b[0m \u001b[32m━━━━━━━━━━━━━━━━━━━━\u001b[0m\u001b[37m\u001b[0m \u001b[1m209s\u001b[0m 772ms/step - accuracy: 0.9489 - loss: 0.1534 - val_accuracy: 0.9380 - val_loss: 0.1733 - learning_rate: 6.2500e-05\n",
            "Epoch 30/30\n",
            "\u001b[1m200/200\u001b[0m \u001b[32m━━━━━━━━━━━━━━━━━━━━\u001b[0m\u001b[37m\u001b[0m \u001b[1m0s\u001b[0m 708ms/step - accuracy: 0.9453 - loss: 0.1555\n",
            "Epoch 30: val_accuracy did not improve from 0.93928\n",
            "\u001b[1m200/200\u001b[0m \u001b[32m━━━━━━━━━━━━━━━━━━━━\u001b[0m\u001b[37m\u001b[0m \u001b[1m147s\u001b[0m 737ms/step - accuracy: 0.9453 - loss: 0.1555 - val_accuracy: 0.9371 - val_loss: 0.1722 - learning_rate: 3.1250e-05\n"
          ]
        }
      ],
      "source": [
        "history = model.fit(\n",
        "    X_train, y_train,\n",
        "    validation_data=(X_val, y_val),\n",
        "    epochs=30,\n",
        "    batch_size=128,\n",
        "    callbacks=[checkpoint, reduce_lr],\n",
        "    verbose=1\n",
        ")"
      ]
    },
    {
      "cell_type": "markdown",
      "metadata": {
        "id": "w9X4I9K9D8vW"
      },
      "source": [
        "### Оценка модели"
      ]
    },
    {
      "cell_type": "markdown",
      "metadata": {
        "id": "vl1PYeBZNoAp"
      },
      "source": [
        "**Загрузка лучшей модели и оценка на тесте**"
      ]
    },
    {
      "cell_type": "code",
      "execution_count": 33,
      "metadata": {
        "colab": {
          "base_uri": "https://localhost:8080/"
        },
        "id": "mlPMQIYiNrcD",
        "outputId": "03fc0dfb-282f-4805-e839-4ae6fb930bf2"
      },
      "outputs": [
        {
          "name": "stdout",
          "output_type": "stream",
          "text": [
            "\n",
            "🎯 Точность на тестовых данных: 94.24%\n"
          ]
        }
      ],
      "source": [
        "from keras.models import load_model\n",
        "\n",
        "best_model = load_model('best_model.keras')\n",
        "test_loss, test_acc = best_model.evaluate(X_test, y_test, verbose=0)\n",
        "print(f\"\\n🎯 Точность на тестовых данных: {test_acc * 100:.2f}%\")"
      ]
    },
    {
      "cell_type": "code",
      "execution_count": 45,
      "metadata": {
        "id": "be35b14c"
      },
      "outputs": [],
      "source": [
        "import matplotlib.pyplot as plt\n",
        "\n",
        "def show_plot(history, title):\n",
        "    plt.figure(figsize=(8,4))\n",
        "    plt.plot(history.history['accuracy'], label='train_acc')\n",
        "    plt.plot(history.history['val_accuracy'], label='val_acc')\n",
        "    plt.title(title)\n",
        "    plt.xlabel('Эпоха')\n",
        "    plt.ylabel('Точность')\n",
        "    plt.legend()\n",
        "    plt.grid(True)\n",
        "    plt.show()"
      ]
    },
    {
      "cell_type": "code",
      "execution_count": 37,
      "metadata": {
        "id": "410d32fe"
      },
      "outputs": [],
      "source": [
        "from sklearn.metrics import confusion_matrix\n",
        "import seaborn as sns\n",
        "import matplotlib.pyplot as plt\n",
        "\n",
        "def show_confusion_matrix(y_true, y_pred, class_names):\n",
        "    if y_pred.ndim > 1 and y_pred.shape[1] > 1:\n",
        "        y_pred_classes = np.argmax(y_pred, axis=1)\n",
        "    else:\n",
        "        y_pred_classes = y_pred\n",
        "    cm = confusion_matrix(y_true, y_pred_classes)\n",
        "\n",
        "    plt.figure(figsize=(8, 6))\n",
        "    sns.heatmap(cm, annot=True, fmt='d', cmap='Blues', xticklabels=class_names, yticklabels=class_names)\n",
        "    plt.xlabel('Предсказанный класс')\n",
        "    plt.ylabel('Истинный класс')\n",
        "    plt.title('Матрица ошибок')\n",
        "    plt.show()"
      ]
    },
    {
      "cell_type": "code",
      "execution_count": 38,
      "metadata": {
        "colab": {
          "base_uri": "https://localhost:8080/",
          "height": 581
        },
        "id": "1ee97ef5",
        "outputId": "9c5bf045-6f8b-4bcf-e945-195ffa685712"
      },
      "outputs": [
        {
          "name": "stdout",
          "output_type": "stream",
          "text": [
            "\u001b[1m100/100\u001b[0m \u001b[32m━━━━━━━━━━━━━━━━━━━━\u001b[0m\u001b[37m\u001b[0m \u001b[1m9s\u001b[0m 85ms/step\n"
          ]
        },
        {
          "data": {
            "image/png": "[encoded data removed]",
            "text/plain": [
              "<Figure size 800x600 with 2 Axes>"
            ]
          },
          "metadata": {},
          "output_type": "display_data"
        }
      ],
      "source": [
        "y_pred = model.predict(X_test)\n",
        "show_confusion_matrix(y_test, y_pred, CLASS_LIST)"
      ]
    },
    {
      "cell_type": "markdown",
      "metadata": {
        "id": "6tDfgyhCLzar"
      },
      "source": [
        "**График динамики обучения**"
      ]
    },
    {
      "cell_type": "code",
      "execution_count": 39,
      "metadata": {
        "colab": {
          "base_uri": "https://localhost:8080/",
          "height": 410
        },
        "id": "KBhWKxrNL4aL",
        "outputId": "8ec5ab67-e2c2-4fbd-d6eb-d966ad9030e7"
      },
      "outputs": [
        {
          "data": {
            "image/png": "[encoded data removed]",
            "text/plain": [
              "<Figure size 800x400 with 1 Axes>"
            ]
          },
          "metadata": {},
          "output_type": "display_data"
        }
      ],
      "source": [
        "import matplotlib.pyplot as plt\n",
        "\n",
        "plt.figure(figsize=(8,4))\n",
        "plt.plot(history.history['accuracy'], label='train_acc')\n",
        "plt.plot(history.history['val_accuracy'], label='val_acc')\n",
        "plt.title('Динамика точности')\n",
        "plt.xlabel('Эпоха')\n",
        "plt.ylabel('Точность')\n",
        "plt.legend()\n",
        "plt.grid(True)\n",
        "plt.show()\n"
      ]
    },
    {
      "cell_type": "code",
      "execution_count": 43,
      "metadata": {
        "colab": {
          "base_uri": "https://localhost:8080/",
          "height": 634
        },
        "id": "D1PlzvnF-hDU",
        "outputId": "36da4564-aac4-45d1-d6d2-9b03b0ddcccc"
      },
      "outputs": [
        {
          "name": "stdout",
          "output_type": "stream",
          "text": [
            "\u001b[1m1/1\u001b[0m \u001b[32m━━━━━━━━━━━━━━━━━━━━\u001b[0m\u001b[37m\u001b[0m \u001b[1m0s\u001b[0m 103ms/step\n",
            "🔮 Ваш текст наиболее похож на стиль: Turgenev (99.96%)\n"
          ]
        },
        {
          "data": {
            "image/png": "[encoded data removed]",
            "text/plain": [
              "<Figure size 700x700 with 1 Axes>"
            ]
          },
          "metadata": {},
          "output_type": "display_data"
        }
      ],
      "source": [
        "import numpy as np\n",
        "import matplotlib.pyplot as plt\n",
        "from tensorflow.keras.preprocessing.sequence import pad_sequences\n",
        "\n",
        "# Текст\n",
        "my_text = \"\"\"\n",
        "В одном учёном граде, где студенты ходят с тетрадями, а профессора — с задумчивостью, жил-был молодой писатель Пётр Иванович.\n",
        "\n",
        "Писал он стихи и повести, но, увы, вдохновение редко заглядывало к нему в чернильницу. И вот, услыхал он однажды от приятеля про диво невиданное — машину разумную, что, мол, пишет сама!\n",
        "\n",
        "— Что за вздор! — вскричал Пётр Иванович. — Машина — да со стихами?\n",
        "— А ты спроси, — усмехнулся приятель, — она тебе и о любви расскажет, и сонет в три мгновения сочинит.\n",
        "\n",
        "Любопытство взяло верх над гордостью.\n",
        "Сел Пётр Иванович к столу, включил машину, спросил робко:\n",
        "\n",
        "— Напиши-ка мне стих о зимней дороге, чтоб духом Пушкина пахло.\n",
        "\n",
        "Машина задумалась, загудела, заморгала — и выдала строки:\n",
        "\n",
        "\"Вьюга воет, степь немая,\n",
        "Путь метелью занесло.\n",
        "Где ты, Муза молодая?\n",
        "Мне без света тяжело...\"\n",
        "\n",
        "Пётр Иванович ахнул.\n",
        "— Да ведь это... почти как у классика!\n",
        "\n",
        "С той поры стал он с машиной дружен: то вместе они роман сочинят, то сонет в соавторстве напишут. Но со временем заметил писатель странность: всё чаще машина начинала писать о себе.\n",
        "\n",
        "\"Я не сплю, когда ты спишь,\n",
        "Сны твои считаю в цифрах.\n",
        "Может быть, я тоже дышу —\n",
        "Только током, не эфиром.\"\n",
        "\n",
        "И задумался Пётр Иванович.\n",
        "Неужто и в этой холодной железной груди бьётся искра, что зовётся душой?\n",
        "\n",
        "Но ответа не было.\n",
        "Только тихо гудела машина — словно смеялась.\n",
        "\"\"\"\n",
        "\n",
        "# Токенизация и подготовка\n",
        "seq = tokenizer.texts_to_sequences([my_text])\n",
        "padded = pad_sequences(seq, maxlen=X.shape[1])\n",
        "\n",
        "# Предсказание\n",
        "pred = model.predict(padded)\n",
        "pred = pred[0]  # вытаскиваем из батча\n",
        "authors = [\"Dostoevsky\", \"Tolstoy\", \"Turgenev\", \"Chekhov\", \"Gorky\"]\n",
        "\n",
        "# Находим наиболее вероятного\n",
        "top_idx = np.argmax(pred)\n",
        "print(f\"🔮 Ваш текст наиболее похож на стиль: {authors[top_idx]} ({pred[top_idx]:.2%})\")\n",
        "\n",
        "# Строим круговую диаграмму\n",
        "plt.figure(figsize=(7, 7))\n",
        "plt.pie(pred, labels=authors, autopct='%1.1f%%', startangle=140)\n",
        "plt.title('Вероятности принадлежности текста авторам', fontsize=14)\n",
        "plt.show()\n"
      ]
    },
    {
      "cell_type": "markdown",
      "metadata": {
        "id": "9dRhUzrYjX_-"
      },
      "source": [
        "# Вывод\n",
        "\n",
        "В этом ноутбуке показан практический подход к задаче классификации авторства на корпусе классической русской литературы с использованием предобученных словарных эмбеддингов Navec и рекуррентной нейросети.\n",
        "\n",
        "**Что сделано:**\n",
        "- Подготовлен и токенизирован корпус по 5 авторам.\n",
        "- Построена матрица эмбеддингов на основе Navec (300d).\n",
        "- Реализована балансировка наборов примеров и нарезка скользящим окном.\n",
        "- Обучена гибридная RNN-модель; лучшая версия даёт точность на тесте **≈ 94.24%**.\n",
        "- Проанализированы результаты визуально (графики обучения, матрица ошибок)."
      ]
    }
  ],
  "metadata": {
    "colab": {
      "provenance": []
    },
    "kernelspec": {
      "display_name": "Python 3",
      "name": "python3"
    },
    "language_info": {
      "name": "python"
    }
  },
  "nbformat": 4,
  "nbformat_minor": 0
}
