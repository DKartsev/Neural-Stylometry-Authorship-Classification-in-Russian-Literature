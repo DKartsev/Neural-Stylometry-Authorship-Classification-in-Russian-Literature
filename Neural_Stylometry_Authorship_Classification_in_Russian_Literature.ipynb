{
  "cells": [
    {
      "cell_type": "markdown",
      "metadata": {
        "id": "1-0E7sAkdess"
      },
      "source": [
        "# 📚 Проект: Классификация писателей русской литературы\n",
        "\n",
        "Этот проект посвящён анализу стиля текстов и определению автора произведения на основе **предобученных векторных представлений слов (embeddings)**.  \n",
        "Мы применяем **эмбеддинги Navec/Natasha**, чтобы распознавать стиль пяти известных писателей русской литературы.\n",
        "\n",
        "---\n"
      ]
    },
    {
      "cell_type": "markdown",
      "metadata": {
        "id": "Ql7eQ1eqDcPa"
      },
      "source": [
        "### Загрузка предобученных Embedding"
      ]
    },
    {
      "cell_type": "markdown",
      "metadata": {
        "id": "ZE80ez0Kdvgt"
      },
      "source": [
        "Загружаем архив с произведениями классиков"
      ]
    },
    {
      "cell_type": "code",
      "execution_count": null,
      "metadata": {
        "colab": {
          "base_uri": "https://localhost:8080/"
        },
        "id": "vRgnDCk-DfBG",
        "outputId": "e24d0d4d-fe76-4861-cb25-e613e00b85c9"
      },
      "outputs": [],
      "source": [
        "!wget https://storage.yandexcloud.net/natasha-navec/packs/navec_hudlit_v1_12B_500K_300d_100q.tar"
      ]
    },
    {
      "cell_type": "code",
      "execution_count": null,
      "metadata": {
        "colab": {
          "base_uri": "https://localhost:8080/"
        },
        "id": "TmjFU_onDjA9",
        "outputId": "376b1583-6902-4759-fc7d-5fcb81ee737e"
      },
      "outputs": [],
      "source": [
        "!pip install navec"
      ]
    },
    {
      "cell_type": "code",
      "execution_count": null,
      "metadata": {
        "id": "-DQ6RaRCDl7Z"
      },
      "outputs": [],
      "source": [
        "from navec import Navec\n",
        "\n",
        "navec = Navec.load('navec_hudlit_v1_12B_500K_300d_100q.tar')\n",
        "EMBEDDING_DIM = 300\n",
        "MAX_WORDS = 10000"
      ]
    },
    {
      "cell_type": "markdown",
      "metadata": {
        "id": "_ST4YhQADoLm"
      },
      "source": [
        "### Подготовка датасета"
      ]
    },
    {
      "cell_type": "markdown",
      "metadata": {
        "id": "kx3j4p95DsOo"
      },
      "source": [
        "**Шаг 1. Загрузка базы писателей Русской литературы**"
      ]
    },
    {
      "cell_type": "code",
      "execution_count": null,
      "metadata": {
        "colab": {
          "base_uri": "https://localhost:8080/"
        },
        "id": "ICGyCJ9ODuhK",
        "outputId": "ae58aa69-cac3-49a1-8db0-effb04ccebf7"
      },
      "outputs": [
        {
          "name": "stdout",
          "output_type": "stream",
          "text": [
            "Downloading data from https://storage.yandexcloud.net/academy.ai/russian_literature.zip\n",
            "\u001b[1m21547079/21547079\u001b[0m \u001b[32m━━━━━━━━━━━━━━━━━━━━\u001b[0m\u001b[37m\u001b[0m \u001b[1m2s\u001b[0m 0us/step\n"
          ]
        }
      ],
      "source": [
        "import keras\n",
        "data_path = keras.utils.get_file(\n",
        "    \"russian_literature.zip\",\n",
        "    \"https://storage.yandexcloud.net/academy.ai/russian_literature.zip\"\n",
        ")"
      ]
    },
    {
      "cell_type": "markdown",
      "metadata": {
        "id": "VmWfMS8TEFT-"
      },
      "source": [
        "**Шаг 2. Распаковка датасета**"
      ]
    },
    {
      "cell_type": "code",
      "execution_count": null,
      "metadata": {
        "colab": {
          "base_uri": "https://localhost:8080/"
        },
        "id": "QU5d46r2EOY1",
        "outputId": "03b7879a-9143-464b-a72b-4b05772cddfc"
      },
      "outputs": [],
      "source": [
        "# Разархивируем датасета во временную папку 'dataset'\n",
        "!unzip -qo \"{data_path}\" -d ./dataset"
      ]
    },
    {
      "cell_type": "markdown",
      "metadata": {
        "id": "EBJ0F8nEEnx1"
      },
      "source": [
        "**Шаг 3. Формирование датасета**"
      ]
    },
    {
      "cell_type": "code",
      "execution_count": null,
      "metadata": {
        "id": "V7tl6IcLEqzA"
      },
      "outputs": [],
      "source": [
        "CLASS_LIST=[\"Dostoevsky\", \"Tolstoy\", \"Turgenev\", \"Chekhov\", \"Gorky\",]"
      ]
    },
    {
      "cell_type": "code",
      "execution_count": null,
      "metadata": {
        "id": "se9QrzYSE2e1"
      },
      "outputs": [],
      "source": [
        "# Загрузка необходимых библиотек\n",
        "import glob # Вспомогательный модуль для работы с файловой системой\n",
        "\n",
        "\n",
        "all_texts = {} # Собираем в словарь весь датасет\n",
        "\n",
        "for author in CLASS_LIST:\n",
        "    all_texts[author] = '' # Инициализируем пустой строкой новый ключ словаря\n",
        "    for path in glob.glob('./dataset/prose/{}/*.txt'.format(author)) +  glob.glob('./dataset/poems/{}/*.txt'.format(author)): # Поиск файлов по шаблону\n",
        "        with open(f'{path}', 'r', errors='ignore') as f: # игнорируем ошибки (например символы из другой кодировки)\n",
        "            # Загрузка содержимого файла в строку\n",
        "            text = f.read()\n",
        "\n",
        "        all_texts[author]  += ' ' + text.replace('\\n', ' ') # Заменяем символ перехода на новую строку пробелом"
      ]
    },
    {
      "cell_type": "markdown",
      "metadata": {
        "id": "OeNkEln8Fn0D"
      },
      "source": [
        "**Шаг 4. Токенизация**"
      ]
    },
    {
      "cell_type": "markdown",
      "metadata": {
        "id": "3MoLWT4Md6CB"
      },
      "source": [
        "Используем библиотеку `razdel` для корректной русской токенизации.\n",
        "Каждый текст разбивается на список токенов для обучения модели"
      ]
    },
    {
      "cell_type": "code",
      "execution_count": null,
      "metadata": {
        "colab": {
          "base_uri": "https://localhost:8080/"
        },
        "id": "vnSPlhtPGT8h",
        "outputId": "56fae196-8a4e-4ae6-c6e4-bd0ceba3c158"
      },
      "outputs": [],
      "source": [
        "!pip install razdel"
      ]
    },
    {
      "cell_type": "code",
      "execution_count": null,
      "metadata": {
        "colab": {
          "base_uri": "https://localhost:8080/"
        },
        "id": "wFM3Q2rjGyD5",
        "outputId": "b03d0451-4b6a-4b13-96af-ea1ed35d5a93"
      },
      "outputs": [
        {
          "name": "stdout",
          "output_type": "stream",
          "text": [
            "Всего авторов: 5\n",
            "Пример токенизированного текста (Dostoevsky):\n",
            "Федор Михайлович Достоевский УНИЖЕННЫЕ И ОСКОРБЛЕННЫЕ Роман в четырех частях с эпилогом ЧАСТЬ ПЕРВАЯ ГЛАВА I Прошлого года , двадцать второго марта , вечером , со мной случилось престранное происшествие . Весь этот день я ходил по городу и искал себе квартиру . Старая была очень сыра , а я тогда уже\n",
            "Размер словаря: 210501\n"
          ]
        }
      ],
      "source": [
        "from razdel import tokenize\n",
        "from tensorflow.keras.preprocessing.text import Tokenizer\n",
        "\n",
        "embedding_dim = 300    # размерность эмбеддингов (совпадает с Navec)\n",
        "max_words = 10000      # количество слов для словаря\n",
        "\n",
        "# Токенизация текстов Razdel\n",
        "def razdel_tokenize(text):\n",
        "    # превращаем текст в строку токенов, разделённых пробелами\n",
        "    tokens = [t.text for t in tokenize(str(text))]\n",
        "    return \" \".join(tokens)\n",
        "\n",
        "# Применяем токенизацию ко всем авторам\n",
        "# Превратим словарь all_texts в список текстов\n",
        "author_names = list(all_texts.keys())\n",
        "texts = list(all_texts.values())\n",
        "\n",
        "# Токенизируем каждый текст Razdel’ом\n",
        "texts_tokenized = [razdel_tokenize(t) for t in texts]\n",
        "\n",
        "# Создаём токенайзер Keras — он теперь работает по токенам Razdel\n",
        "tokenizer = Tokenizer(\n",
        "    num_words=max_words,\n",
        "    filters='',\n",
        "    lower=True,\n",
        "    split=' ',\n",
        "    char_level=False\n",
        ")\n",
        "\n",
        "# Обучаем токенайзер на токенизированных текстах\n",
        "tokenizer.fit_on_texts(texts_tokenized)\n",
        "\n",
        "# Проверим результат\n",
        "print(f\"Всего авторов: {len(author_names)}\")\n",
        "print(f\"Пример токенизированного текста ({author_names[0]}):\")\n",
        "print(texts_tokenized[0][:300])\n",
        "print(f\"Размер словаря: {len(tokenizer.word_index)}\")"
      ]
    },
    {
      "cell_type": "markdown",
      "metadata": {
        "id": "RBj3oY7oI2sc"
      },
      "source": [
        "### Шаг 5. Преобразование текста в последовательности"
      ]
    },
    {
      "cell_type": "code",
      "execution_count": null,
      "metadata": {
        "colab": {
          "base_uri": "https://localhost:8080/"
        },
        "id": "5UTVU_1WI5nX",
        "outputId": "468b3b8e-fd60-4d0a-ba43-dab669424fcd"
      },
      "outputs": [
        {
          "name": "stdout",
          "output_type": "stream",
          "text": [
            "Dostoevsky len: 1970254\n",
            "Tolstoy len: 1592990\n",
            "Turgenev len: 401279\n",
            "Chekhov len: 319558\n",
            "Gorky len: 743392\n"
          ]
        }
      ],
      "source": [
        "from tensorflow.keras.preprocessing.sequence import pad_sequences\n",
        "import numpy as np\n",
        "from collections import Counter\n",
        "import random\n",
        "\n",
        "random.seed(42)\n",
        "np.random.seed(42)\n",
        "\n",
        "# Приведём вход к единой форме: dict author -> tokenized_string\n",
        "if isinstance(texts_tokenized, dict):\n",
        "    tok_by_author = texts_tokenized\n",
        "elif isinstance(texts_tokenized, list):\n",
        "    if len(texts_tokenized) != len(author_names):\n",
        "        raise ValueError(\"Если texts_tokenized — list, он должен быть той же длины, что и author_names\")\n",
        "    tok_by_author = {a: t for a, t in zip(author_names, texts_tokenized)}\n",
        "else:\n",
        "    raise ValueError(\"texts_tokenized должен быть list или dict\")\n",
        "\n",
        "# Используем tokenizer.texts_to_sequences для списка значений\n",
        "authors = list(tok_by_author.keys())\n",
        "texts_list = [tok_by_author[a] for a in authors]   # список токенизированных строк\n",
        "sequences_list = tokenizer.texts_to_sequences(texts_list)  # list of list[int]\n",
        "\n",
        "# Маппинг author -> sequence (список индексов)\n",
        "sequences_by_author = {author: seq for author, seq in zip(authors, sequences_list)}\n",
        "\n",
        "# Проверка\n",
        "for a in authors:\n",
        "    print(a, \"len:\", len(sequences_by_author[a]))\n"
      ]
    },
    {
      "cell_type": "markdown",
      "metadata": {
        "id": "5uI7Q1flJm5_"
      },
      "source": [
        "### Шаг 6. Балансировка датасета"
      ]
    },
    {
      "cell_type": "markdown",
      "metadata": {
        "id": "KDaZKDUueCN3"
      },
      "source": [
        "Уравниваем количество примеров для каждого автора, чтобы модель обучалась равномерно"
      ]
    },
    {
      "cell_type": "code",
      "execution_count": null,
      "metadata": {
        "colab": {
          "base_uri": "https://localhost:8080/"
        },
        "id": "D0NScwozJpQf",
        "outputId": "7ce04f01-a442-4351-9f7d-74595dba7842"
      },
      "outputs": [
        {
          "name": "stdout",
          "output_type": "stream",
          "text": [
            "Окон на автора (до балансировки): {'Dostoevsky': 39404, 'Tolstoy': 31858, 'Turgenev': 8024, 'Chekhov': 6390, 'Gorky': 14866}\n",
            "Окон на автора (после балансировки): {'Dostoevsky': 6390, 'Tolstoy': 6390, 'Turgenev': 6390, 'Chekhov': 6390, 'Gorky': 6390}\n"
          ]
        }
      ],
      "source": [
        "def balance_sequences(sequences_by_author, strategy='undersample', target_windows=None, window_size=50, step=25):\n",
        "    \"\"\"\n",
        "    Возвращает dict author -> list of windows (каждое окно — list[int]).\n",
        "    strategy: 'undersample' (по минимальному числу окон) или 'upsample' (по максимальному)\n",
        "    target_windows: если указано — принудительно взять это количество окон на автора\n",
        "    \"\"\"\n",
        "    windows_by_author = {}\n",
        "    for author, seq in sequences_by_author.items():\n",
        "        # границы — берём только те индексы, где можно получить хотя бы одно окно\n",
        "        if len(seq) < window_size:\n",
        "            windows = []  # недостаточно данных\n",
        "        else:\n",
        "            windows = [seq[i:i+window_size] for i in range(0, len(seq) - window_size + 1, step)]\n",
        "        windows_by_author[author] = windows\n",
        "\n",
        "    counts = {a: len(windows_by_author[a]) for a in windows_by_author}\n",
        "    print(\"Окон на автора (до балансировки):\", counts)\n",
        "\n",
        "    # если target_windows явно указано — используем его\n",
        "    if target_windows is None:\n",
        "        if strategy == 'undersample':\n",
        "            target = min(counts.values()) if counts else 0\n",
        "        elif strategy == 'upsample':\n",
        "            target = max(counts.values()) if counts else 0\n",
        "        else:\n",
        "            raise ValueError(\"strategy must be 'undersample' or 'upsample'\")\n",
        "    else:\n",
        "        target = int(target_windows)\n",
        "\n",
        "    balanced = {}\n",
        "    for author, windows in windows_by_author.items():\n",
        "        n = len(windows)\n",
        "        if n == 0:\n",
        "            balanced[author] = []\n",
        "        elif n == target:\n",
        "            balanced[author] = windows\n",
        "        elif n > target:\n",
        "            # случайное уменьшение (детерминированное seed выше)\n",
        "            balanced[author] = random.sample(windows, target)\n",
        "        else:\n",
        "            # n < target -> дополняем с повторением\n",
        "            reps = target // n\n",
        "            rem = target % n\n",
        "            balanced[author] = windows * reps + random.sample(windows, rem) if n>0 else []\n",
        "    counts_after = {a: len(balanced[a]) for a in balanced}\n",
        "    print(\"Окон на автора (после балансировки):\", counts_after)\n",
        "    return balanced\n",
        "\n",
        "# Пример: задаём параметры окна\n",
        "WINDOW_SIZE = 100   # длина окна в токенах\n",
        "STEP = 50           # шаг (overlap = 50%)\n",
        "# выберем стратегию undersample (уменьшение до минимального кол-ва окон)\n",
        "balanced_windows = balance_sequences(sequences_by_author, strategy='undersample', window_size=WINDOW_SIZE, step=STEP)\n",
        "\n",
        "# -------------------------"
      ]
    },
    {
      "cell_type": "markdown",
      "metadata": {
        "id": "YXTJuP-KJrex"
      },
      "source": [
        "### Шаг 7. Нарезка примеров методом скользящего окна"
      ]
    },
    {
      "cell_type": "markdown",
      "metadata": {
        "id": "tIweH-fHeFlV"
      },
      "source": [
        "Разделяем длинные тексты на фрагменты фиксированной длины для обучения"
      ]
    },
    {
      "cell_type": "code",
      "execution_count": null,
      "metadata": {
        "colab": {
          "base_uri": "https://localhost:8080/"
        },
        "id": "6AqVn4IrJtqu",
        "outputId": "009dcd2e-3462-4744-aafe-01a0893a8b8a"
      },
      "outputs": [
        {
          "name": "stdout",
          "output_type": "stream",
          "text": [
            "Готово: примеров X: (31950, 100) меток y: (31950,)\n",
            "Mapping authors -> id: {'Chekhov': 0, 'Dostoevsky': 1, 'Gorky': 2, 'Tolstoy': 3, 'Turgenev': 4}\n"
          ]
        }
      ],
      "source": [
        "X = []\n",
        "y = []\n",
        "author_to_id = {a: i for i, a in enumerate(sorted(balanced_windows.keys()))}\n",
        "for author, windows in balanced_windows.items():\n",
        "    aid = author_to_id[author]\n",
        "    for w in windows:\n",
        "        if len(w) == WINDOW_SIZE:\n",
        "            X.append(w)\n",
        "            y.append(aid)\n",
        "\n",
        "X = np.array(X, dtype=np.int32)\n",
        "y = np.array(y, dtype=np.int32)\n",
        "print(\"Готово: примеров X:\", X.shape, \"меток y:\", y.shape)\n",
        "print(\"Mapping authors -> id:\", author_to_id)"
      ]
    },
    {
      "cell_type": "markdown",
      "metadata": {
        "id": "0ZupoxybJyBg"
      },
      "source": [
        "### Шаг 8. Вспомогательные функции"
      ]
    },
    {
      "cell_type": "code",
      "execution_count": null,
      "metadata": {
        "colab": {
          "base_uri": "https://localhost:8080/"
        },
        "id": "8in0Ju7MKfYv",
        "outputId": "f2d5cede-dc16-4f29-ecd0-d6958e1fd4c7"
      },
      "outputs": [
        {
          "name": "stdout",
          "output_type": "stream",
          "text": [
            "Пример окна (первые 1): [  88 2687  223    1    6 1203   22   96   40   41    1    3 3205 5602\n",
            "    1    6   23    1  952    1]\n",
            "Декодированное окно: ей беспрерывно казалось , что коля к ней « » , и бывали случаи , что она , слезами ,\n",
            "Распределение по классам: {np.int32(0): 6390, np.int32(1): 6390, np.int32(2): 6390, np.int32(3): 6390, np.int32(4): 6390}\n"
          ]
        }
      ],
      "source": [
        "reverse_word_index = {v: k for k, v in tokenizer.word_index.items()}\n",
        "\n",
        "def decode_sequence(seq, unk_token='<?>'):\n",
        "    \"\"\"Преобразовать список индексов в строку слов (без паддинга)\"\"\"\n",
        "    return ' '.join([reverse_word_index.get(int(i), unk_token) for i in seq])\n",
        "\n",
        "def get_class_distribution(y_array):\n",
        "    cnt = Counter(y_array)\n",
        "    return {k: cnt[k] for k in sorted(cnt)}\n",
        "\n",
        "# Примеры вызова:\n",
        "print(\"Пример окна (первые 1):\", X[0][:20])\n",
        "print(\"Декодированное окно:\", decode_sequence(X[0][:20]))\n",
        "print(\"Распределение по классам:\", get_class_distribution(y))\n",
        "\n",
        "# Сохранение / случайное перемешивание перед обучением\n",
        "perm = np.random.permutation(len(X))\n",
        "X = X[perm]\n",
        "y = y[perm]"
      ]
    },
    {
      "cell_type": "markdown",
      "metadata": {
        "id": "tWp-VV9lLDWG"
      },
      "source": [
        "### Шаг 9. Загрузка весов и создание Embedding-матрицы"
      ]
    },
    {
      "cell_type": "code",
      "execution_count": null,
      "metadata": {
        "colab": {
          "base_uri": "https://localhost:8080/"
        },
        "id": "PaT2lkDyLLUR",
        "outputId": "6bf2a6d6-412e-48cc-a44d-a05997753413"
      },
      "outputs": [
        {
          "name": "stdout",
          "output_type": "stream",
          "text": [
            "Embedding matrix shape: (10000, 300)\n"
          ]
        }
      ],
      "source": [
        "embedding_matrix = np.zeros((MAX_WORDS, EMBEDDING_DIM))\n",
        "\n",
        "for word, i in tokenizer.word_index.items():\n",
        "    if i >= MAX_WORDS:\n",
        "        continue\n",
        "    if word in navec:\n",
        "        embedding_matrix[i] = navec[word]\n",
        "    else:\n",
        "        # если слова нет в Navec — оставляем нулевой вектор\n",
        "        embedding_matrix[i] = np.random.normal(scale=0.6, size=(EMBEDDING_DIM,))\n",
        "\n",
        "print(f\"Embedding matrix shape: {embedding_matrix.shape}\")"
      ]
    },
    {
      "cell_type": "markdown",
      "metadata": {
        "id": "3X-F7ZeoLUqZ"
      },
      "source": [
        "### Шаг 10. Архитектура сети"
      ]
    },
    {
      "cell_type": "code",
      "execution_count": null,
      "metadata": {
        "colab": {
          "base_uri": "https://localhost:8080/"
        },
        "id": "f7a48c7f",
        "outputId": "995b92f5-79b0-41b8-d645-037212e8453b"
      },
      "outputs": [
        {
          "name": "stdout",
          "output_type": "stream",
          "text": [
            "Collecting gensim\n",
            "  Downloading gensim-4.4.0-cp312-cp312-manylinux_2_24_x86_64.manylinux_2_28_x86_64.whl.metadata (8.4 kB)\n",
            "Requirement already satisfied: numpy>=1.18.5 in /usr/local/lib/python3.12/dist-packages (from gensim) (2.0.2)\n",
            "Requirement already satisfied: scipy>=1.7.0 in /usr/local/lib/python3.12/dist-packages (from gensim) (1.16.2)\n",
            "Requirement already satisfied: smart_open>=1.8.1 in /usr/local/lib/python3.12/dist-packages (from gensim) (7.4.0)\n",
            "Requirement already satisfied: wrapt in /usr/local/lib/python3.12/dist-packages (from smart_open>=1.8.1->gensim) (2.0.0)\n",
            "Downloading gensim-4.4.0-cp312-cp312-manylinux_2_24_x86_64.manylinux_2_28_x86_64.whl (27.9 MB)\n",
            "\u001b[2K   \u001b[90m━━━━━━━━━━━━━━━━━━━━━━━━━━━━━━━━━━━━━━━━\u001b[0m \u001b[32m27.9/27.9 MB\u001b[0m \u001b[31m56.0 MB/s\u001b[0m eta \u001b[36m0:00:00\u001b[0m\n",
            "\u001b[?25hInstalling collected packages: gensim\n",
            "Successfully installed gensim-4.4.0\n"
          ]
        }
      ],
      "source": [
        "!pip install gensim"
      ]
    },
    {
      "cell_type": "code",
      "execution_count": null,
      "metadata": {
        "colab": {
          "base_uri": "https://localhost:8080/",
          "height": 511
        },
        "id": "yqb9kXroLdAl",
        "outputId": "b6b62971-11da-42be-b55f-c8302eef36fc"
      },
      "outputs": [
        {
          "name": "stderr",
          "output_type": "stream",
          "text": [
            "/usr/local/lib/python3.12/dist-packages/keras/src/layers/core/embedding.py:97: UserWarning: Argument `input_length` is deprecated. Just remove it.\n",
            "  warnings.warn(\n"
          ]
        },
        {
          "data": {
            "text/html": [
              "<pre style=\"white-space:pre;overflow-x:auto;line-height:normal;font-family:Menlo,'DejaVu Sans Mono',consolas,'Courier New',monospace\"><span style=\"font-weight: bold\">Model: \"sequential\"</span>\n",
              "</pre>\n"
            ],
            "text/plain": [
              "\u001b[1mModel: \"sequential\"\u001b[0m\n"
            ]
          },
          "metadata": {},
          "output_type": "display_data"
        },
        {
          "data": {
            "text/html": [
              "<pre style=\"white-space:pre;overflow-x:auto;line-height:normal;font-family:Menlo,'DejaVu Sans Mono',consolas,'Courier New',monospace\">┏━━━━━━━━━━━━━━━━━━━━━━━━━━━━━━━━━┳━━━━━━━━━━━━━━━━━━━━━━━━┳━━━━━━━━━━━━━━━┓\n",
              "┃<span style=\"font-weight: bold\"> Layer (type)                    </span>┃<span style=\"font-weight: bold\"> Output Shape           </span>┃<span style=\"font-weight: bold\">       Param # </span>┃\n",
              "┡━━━━━━━━━━━━━━━━━━━━━━━━━━━━━━━━━╇━━━━━━━━━━━━━━━━━━━━━━━━╇━━━━━━━━━━━━━━━┩\n",
              "│ embedding (<span style=\"color: #0087ff; text-decoration-color: #0087ff\">Embedding</span>)           │ ?                      │     <span style=\"color: #00af00; text-decoration-color: #00af00\">3,000,000</span> │\n",
              "├─────────────────────────────────┼────────────────────────┼───────────────┤\n",
              "│ conv1d (<span style=\"color: #0087ff; text-decoration-color: #0087ff\">Conv1D</span>)                 │ ?                      │   <span style=\"color: #00af00; text-decoration-color: #00af00\">0</span> (unbuilt) │\n",
              "├─────────────────────────────────┼────────────────────────┼───────────────┤\n",
              "│ max_pooling1d (<span style=\"color: #0087ff; text-decoration-color: #0087ff\">MaxPooling1D</span>)    │ ?                      │             <span style=\"color: #00af00; text-decoration-color: #00af00\">0</span> │\n",
              "├─────────────────────────────────┼────────────────────────┼───────────────┤\n",
              "│ batch_normalization             │ ?                      │   <span style=\"color: #00af00; text-decoration-color: #00af00\">0</span> (unbuilt) │\n",
              "│ (<span style=\"color: #0087ff; text-decoration-color: #0087ff\">BatchNormalization</span>)            │                        │               │\n",
              "├─────────────────────────────────┼────────────────────────┼───────────────┤\n",
              "│ bidirectional (<span style=\"color: #0087ff; text-decoration-color: #0087ff\">Bidirectional</span>)   │ ?                      │   <span style=\"color: #00af00; text-decoration-color: #00af00\">0</span> (unbuilt) │\n",
              "├─────────────────────────────────┼────────────────────────┼───────────────┤\n",
              "│ global_max_pooling1d            │ ?                      │             <span style=\"color: #00af00; text-decoration-color: #00af00\">0</span> │\n",
              "│ (<span style=\"color: #0087ff; text-decoration-color: #0087ff\">GlobalMaxPooling1D</span>)            │                        │               │\n",
              "├─────────────────────────────────┼────────────────────────┼───────────────┤\n",
              "│ dense (<span style=\"color: #0087ff; text-decoration-color: #0087ff\">Dense</span>)                   │ ?                      │   <span style=\"color: #00af00; text-decoration-color: #00af00\">0</span> (unbuilt) │\n",
              "├─────────────────────────────────┼────────────────────────┼───────────────┤\n",
              "│ dropout (<span style=\"color: #0087ff; text-decoration-color: #0087ff\">Dropout</span>)               │ ?                      │             <span style=\"color: #00af00; text-decoration-color: #00af00\">0</span> │\n",
              "├─────────────────────────────────┼────────────────────────┼───────────────┤\n",
              "│ dense_1 (<span style=\"color: #0087ff; text-decoration-color: #0087ff\">Dense</span>)                 │ ?                      │   <span style=\"color: #00af00; text-decoration-color: #00af00\">0</span> (unbuilt) │\n",
              "└─────────────────────────────────┴────────────────────────┴───────────────┘\n",
              "</pre>\n"
            ],
            "text/plain": [
              "┏━━━━━━━━━━━━━━━━━━━━━━━━━━━━━━━━━┳━━━━━━━━━━━━━━━━━━━━━━━━┳━━━━━━━━━━━━━━━┓\n",
              "┃\u001b[1m \u001b[0m\u001b[1mLayer (type)                   \u001b[0m\u001b[1m \u001b[0m┃\u001b[1m \u001b[0m\u001b[1mOutput Shape          \u001b[0m\u001b[1m \u001b[0m┃\u001b[1m \u001b[0m\u001b[1m      Param #\u001b[0m\u001b[1m \u001b[0m┃\n",
              "┡━━━━━━━━━━━━━━━━━━━━━━━━━━━━━━━━━╇━━━━━━━━━━━━━━━━━━━━━━━━╇━━━━━━━━━━━━━━━┩\n",
              "│ embedding (\u001b[38;5;33mEmbedding\u001b[0m)           │ ?                      │     \u001b[38;5;34m3,000,000\u001b[0m │\n",
              "├─────────────────────────────────┼────────────────────────┼───────────────┤\n",
              "│ conv1d (\u001b[38;5;33mConv1D\u001b[0m)                 │ ?                      │   \u001b[38;5;34m0\u001b[0m (unbuilt) │\n",
              "├─────────────────────────────────┼────────────────────────┼───────────────┤\n",
              "│ max_pooling1d (\u001b[38;5;33mMaxPooling1D\u001b[0m)    │ ?                      │             \u001b[38;5;34m0\u001b[0m │\n",
              "├─────────────────────────────────┼────────────────────────┼───────────────┤\n",
              "│ batch_normalization             │ ?                      │   \u001b[38;5;34m0\u001b[0m (unbuilt) │\n",
              "│ (\u001b[38;5;33mBatchNormalization\u001b[0m)            │                        │               │\n",
              "├─────────────────────────────────┼────────────────────────┼───────────────┤\n",
              "│ bidirectional (\u001b[38;5;33mBidirectional\u001b[0m)   │ ?                      │   \u001b[38;5;34m0\u001b[0m (unbuilt) │\n",
              "├─────────────────────────────────┼────────────────────────┼───────────────┤\n",
              "│ global_max_pooling1d            │ ?                      │             \u001b[38;5;34m0\u001b[0m │\n",
              "│ (\u001b[38;5;33mGlobalMaxPooling1D\u001b[0m)            │                        │               │\n",
              "├─────────────────────────────────┼────────────────────────┼───────────────┤\n",
              "│ dense (\u001b[38;5;33mDense\u001b[0m)                   │ ?                      │   \u001b[38;5;34m0\u001b[0m (unbuilt) │\n",
              "├─────────────────────────────────┼────────────────────────┼───────────────┤\n",
              "│ dropout (\u001b[38;5;33mDropout\u001b[0m)               │ ?                      │             \u001b[38;5;34m0\u001b[0m │\n",
              "├─────────────────────────────────┼────────────────────────┼───────────────┤\n",
              "│ dense_1 (\u001b[38;5;33mDense\u001b[0m)                 │ ?                      │   \u001b[38;5;34m0\u001b[0m (unbuilt) │\n",
              "└─────────────────────────────────┴────────────────────────┴───────────────┘\n"
            ]
          },
          "metadata": {},
          "output_type": "display_data"
        },
        {
          "data": {
            "text/html": [
              "<pre style=\"white-space:pre;overflow-x:auto;line-height:normal;font-family:Menlo,'DejaVu Sans Mono',consolas,'Courier New',monospace\"><span style=\"font-weight: bold\"> Total params: </span><span style=\"color: #00af00; text-decoration-color: #00af00\">3,000,000</span> (11.44 MB)\n",
              "</pre>\n"
            ],
            "text/plain": [
              "\u001b[1m Total params: \u001b[0m\u001b[38;5;34m3,000,000\u001b[0m (11.44 MB)\n"
            ]
          },
          "metadata": {},
          "output_type": "display_data"
        },
        {
          "data": {
            "text/html": [
              "<pre style=\"white-space:pre;overflow-x:auto;line-height:normal;font-family:Menlo,'DejaVu Sans Mono',consolas,'Courier New',monospace\"><span style=\"font-weight: bold\"> Trainable params: </span><span style=\"color: #00af00; text-decoration-color: #00af00\">0</span> (0.00 B)\n",
              "</pre>\n"
            ],
            "text/plain": [
              "\u001b[1m Trainable params: \u001b[0m\u001b[38;5;34m0\u001b[0m (0.00 B)\n"
            ]
          },
          "metadata": {},
          "output_type": "display_data"
        },
        {
          "data": {
            "text/html": [
              "<pre style=\"white-space:pre;overflow-x:auto;line-height:normal;font-family:Menlo,'DejaVu Sans Mono',consolas,'Courier New',monospace\"><span style=\"font-weight: bold\"> Non-trainable params: </span><span style=\"color: #00af00; text-decoration-color: #00af00\">3,000,000</span> (11.44 MB)\n",
              "</pre>\n"
            ],
            "text/plain": [
              "\u001b[1m Non-trainable params: \u001b[0m\u001b[38;5;34m3,000,000\u001b[0m (11.44 MB)\n"
            ]
          },
          "metadata": {},
          "output_type": "display_data"
        }
      ],
      "source": [
        "from gensim.models import KeyedVectors\n",
        "from keras import models, layers\n",
        "from gensim.models import KeyedVectors\n",
        "import tensorflow as tf\n",
        "\n",
        "num_classes = len(author_to_id)\n",
        "\n",
        "model = models.Sequential([\n",
        "    layers.Embedding(\n",
        "        input_dim=MAX_WORDS,\n",
        "        output_dim=EMBEDDING_DIM,\n",
        "        weights=[embedding_matrix],\n",
        "        input_length=X.shape[1],\n",
        "        trainable=False  # ❄️ замораживаем слой\n",
        "    ),\n",
        "    layers.Conv1D(128, 5, activation='relu'),\n",
        "    layers.MaxPooling1D(5),\n",
        "    layers.BatchNormalization(),\n",
        "    layers.Bidirectional(layers.LSTM(64, return_sequences=True)),\n",
        "    layers.GlobalMaxPooling1D(),\n",
        "    layers.Dense(128, activation='relu', kernel_regularizer=tf.keras.regularizers.l2(1e-4)),\n",
        "    layers.Dropout(0.6),\n",
        "    layers.Dense(num_classes, activation='softmax')\n",
        "])\n",
        "\n",
        "model.compile(\n",
        "    optimizer='adam',\n",
        "    loss='sparse_categorical_crossentropy',\n",
        "    metrics=['accuracy']\n",
        ")\n",
        "\n",
        "model.summary()"
      ]
    },
    {
      "cell_type": "markdown",
      "metadata": {
        "id": "TzLDMmYANJJA"
      },
      "source": [
        "**Разделение данных на train/val/test**"
      ]
    },
    {
      "cell_type": "code",
      "execution_count": null,
      "metadata": {
        "colab": {
          "base_uri": "https://localhost:8080/"
        },
        "id": "_CLvJKMrNLYq",
        "outputId": "993361df-e2cc-4b73-88eb-be2ee63add62"
      },
      "outputs": [
        {
          "name": "stdout",
          "output_type": "stream",
          "text": [
            "Train: 25560, Val: 3195, Test: 3195\n"
          ]
        }
      ],
      "source": [
        "from sklearn.model_selection import train_test_split\n",
        "import numpy as np\n",
        "\n",
        "# Стратифицированное разделение\n",
        "X_train, X_temp, y_train, y_temp = train_test_split(\n",
        "    X, y, test_size=0.2, random_state=42, stratify=y\n",
        ")\n",
        "X_val, X_test, y_val, y_test = train_test_split(\n",
        "    X_temp, y_temp, test_size=0.5, random_state=42, stratify=y_temp\n",
        ")\n",
        "\n",
        "print(f\"Train: {len(X_train)}, Val: {len(X_val)}, Test: {len(X_test)}\")"
      ]
    },
    {
      "cell_type": "markdown",
      "metadata": {
        "id": "KoNae5haW3gh"
      },
      "source": [
        "**ReduceLROnPlateau**"
      ]
    },
    {
      "cell_type": "code",
      "execution_count": null,
      "metadata": {
        "id": "4FZVoU_wW6Dg"
      },
      "outputs": [],
      "source": [
        "from tensorflow.keras.callbacks import ReduceLROnPlateau\n",
        "\n",
        "reduce_lr = ReduceLROnPlateau(\n",
        "    monitor='val_accuracy',\n",
        "    factor=0.5,\n",
        "    patience=2,\n",
        "    min_lr=1e-5,\n",
        "    verbose=1\n",
        ")"
      ]
    },
    {
      "cell_type": "markdown",
      "metadata": {
        "id": "pjy0lWwrNPcv"
      },
      "source": [
        "**Callback для сохранения лучшей эпохи**"
      ]
    },
    {
      "cell_type": "code",
      "execution_count": null,
      "metadata": {
        "id": "dXrPqJCvNRif"
      },
      "outputs": [],
      "source": [
        "from tensorflow.keras.callbacks import ModelCheckpoint\n",
        "\n",
        "checkpoint = ModelCheckpoint(\n",
        "    filepath='best_model.keras',   # файл, куда сохраняем модель\n",
        "    monitor='val_accuracy',        # по какой метрике выбираем лучшую\n",
        "    save_best_only=True,           # сохраняем только лучшую\n",
        "    mode='max',                    # максимизируем accuracy\n",
        "    verbose=1\n",
        ")"
      ]
    },
    {
      "cell_type": "markdown",
      "metadata": {
        "id": "7xNk3xUuNUbi"
      },
      "source": [
        "**Обучение модели**"
      ]
    },
    {
      "cell_type": "code",
      "execution_count": null,
      "metadata": {
        "colab": {
          "base_uri": "https://localhost:8080/"
        },
        "id": "pOKb4UGHNWqg",
        "outputId": "e3f76dc6-cf8a-4c87-8eaa-5235ae2852ca"
      },
      "outputs": [
        {
          "name": "stdout",
          "output_type": "stream",
          "text": [
            "Epoch 1/20\n",
            "\u001b[1m200/200\u001b[0m \u001b[32m━━━━━━━━━━━━━━━━━━━━\u001b[0m\u001b[37m\u001b[0m \u001b[1m0s\u001b[0m 344ms/step - accuracy: 0.5415 - loss: 1.1294\n",
            "Epoch 1: val_accuracy improved from -inf to 0.70391, saving model to best_model.keras\n",
            "\u001b[1m200/200\u001b[0m \u001b[32m━━━━━━━━━━━━━━━━━━━━\u001b[0m\u001b[37m\u001b[0m \u001b[1m87s\u001b[0m 374ms/step - accuracy: 0.5421 - loss: 1.1282 - val_accuracy: 0.7039 - val_loss: 0.7765 - learning_rate: 0.0010\n",
            "Epoch 2/20\n",
            "\u001b[1m200/200\u001b[0m \u001b[32m━━━━━━━━━━━━━━━━━━━━\u001b[0m\u001b[37m\u001b[0m \u001b[1m0s\u001b[0m 308ms/step - accuracy: 0.8119 - loss: 0.5346\n",
            "Epoch 2: val_accuracy improved from 0.70391 to 0.82880, saving model to best_model.keras\n",
            "\u001b[1m200/200\u001b[0m \u001b[32m━━━━━━━━━━━━━━━━━━━━\u001b[0m\u001b[37m\u001b[0m \u001b[1m67s\u001b[0m 334ms/step - accuracy: 0.8120 - loss: 0.5345 - val_accuracy: 0.8288 - val_loss: 0.4775 - learning_rate: 0.0010\n",
            "Epoch 3/20\n",
            "\u001b[1m200/200\u001b[0m \u001b[32m━━━━━━━━━━━━━━━━━━━━\u001b[0m\u001b[37m\u001b[0m \u001b[1m0s\u001b[0m 293ms/step - accuracy: 0.8870 - loss: 0.3512\n",
            "Epoch 3: val_accuracy did not improve from 0.82880\n",
            "\u001b[1m200/200\u001b[0m \u001b[32m━━━━━━━━━━━━━━━━━━━━\u001b[0m\u001b[37m\u001b[0m \u001b[1m79s\u001b[0m 319ms/step - accuracy: 0.8870 - loss: 0.3512 - val_accuracy: 0.8003 - val_loss: 0.5548 - learning_rate: 0.0010\n",
            "Epoch 4/20\n",
            "\u001b[1m200/200\u001b[0m \u001b[32m━━━━━━━━━━━━━━━━━━━━\u001b[0m\u001b[37m\u001b[0m \u001b[1m0s\u001b[0m 300ms/step - accuracy: 0.9200 - loss: 0.2553\n",
            "Epoch 4: val_accuracy improved from 0.82880 to 0.84444, saving model to best_model.keras\n",
            "\u001b[1m200/200\u001b[0m \u001b[32m━━━━━━━━━━━━━━━━━━━━\u001b[0m\u001b[37m\u001b[0m \u001b[1m83s\u001b[0m 326ms/step - accuracy: 0.9199 - loss: 0.2553 - val_accuracy: 0.8444 - val_loss: 0.4407 - learning_rate: 0.0010\n",
            "Epoch 5/20\n",
            "\u001b[1m200/200\u001b[0m \u001b[32m━━━━━━━━━━━━━━━━━━━━\u001b[0m\u001b[37m\u001b[0m \u001b[1m0s\u001b[0m 292ms/step - accuracy: 0.9393 - loss: 0.1920\n",
            "Epoch 5: val_accuracy improved from 0.84444 to 0.85415, saving model to best_model.keras\n",
            "\u001b[1m200/200\u001b[0m \u001b[32m━━━━━━━━━━━━━━━━━━━━\u001b[0m\u001b[37m\u001b[0m \u001b[1m78s\u001b[0m 306ms/step - accuracy: 0.9393 - loss: 0.1920 - val_accuracy: 0.8541 - val_loss: 0.4634 - learning_rate: 0.0010\n",
            "Epoch 6/20\n",
            "\u001b[1m200/200\u001b[0m \u001b[32m━━━━━━━━━━━━━━━━━━━━\u001b[0m\u001b[37m\u001b[0m \u001b[1m0s\u001b[0m 308ms/step - accuracy: 0.9586 - loss: 0.1366\n",
            "Epoch 6: val_accuracy did not improve from 0.85415\n",
            "\u001b[1m200/200\u001b[0m \u001b[32m━━━━━━━━━━━━━━━━━━━━\u001b[0m\u001b[37m\u001b[0m \u001b[1m87s\u001b[0m 334ms/step - accuracy: 0.9586 - loss: 0.1366 - val_accuracy: 0.7527 - val_loss: 1.0773 - learning_rate: 0.0010\n",
            "Epoch 7/20\n",
            "\u001b[1m200/200\u001b[0m \u001b[32m━━━━━━━━━━━━━━━━━━━━\u001b[0m\u001b[37m\u001b[0m \u001b[1m0s\u001b[0m 295ms/step - accuracy: 0.9704 - loss: 0.1031\n",
            "Epoch 7: val_accuracy improved from 0.85415 to 0.86322, saving model to best_model.keras\n",
            "\u001b[1m200/200\u001b[0m \u001b[32m━━━━━━━━━━━━━━━━━━━━\u001b[0m\u001b[37m\u001b[0m \u001b[1m78s\u001b[0m 312ms/step - accuracy: 0.9704 - loss: 0.1031 - val_accuracy: 0.8632 - val_loss: 0.4682 - learning_rate: 0.0010\n",
            "Epoch 8/20\n",
            "\u001b[1m200/200\u001b[0m \u001b[32m━━━━━━━━━━━━━━━━━━━━\u001b[0m\u001b[37m\u001b[0m \u001b[1m0s\u001b[0m 299ms/step - accuracy: 0.9713 - loss: 0.0970\n",
            "Epoch 8: val_accuracy improved from 0.86322 to 0.86573, saving model to best_model.keras\n",
            "\u001b[1m200/200\u001b[0m \u001b[32m━━━━━━━━━━━━━━━━━━━━\u001b[0m\u001b[37m\u001b[0m \u001b[1m82s\u001b[0m 313ms/step - accuracy: 0.9713 - loss: 0.0970 - val_accuracy: 0.8657 - val_loss: 0.4958 - learning_rate: 0.0010\n",
            "Epoch 9/20\n",
            "\u001b[1m200/200\u001b[0m \u001b[32m━━━━━━━━━━━━━━━━━━━━\u001b[0m\u001b[37m\u001b[0m \u001b[1m0s\u001b[0m 305ms/step - accuracy: 0.9785 - loss: 0.0772\n",
            "Epoch 9: val_accuracy improved from 0.86573 to 0.86854, saving model to best_model.keras\n",
            "\u001b[1m200/200\u001b[0m \u001b[32m━━━━━━━━━━━━━━━━━━━━\u001b[0m\u001b[37m\u001b[0m \u001b[1m66s\u001b[0m 332ms/step - accuracy: 0.9785 - loss: 0.0772 - val_accuracy: 0.8685 - val_loss: 0.4843 - learning_rate: 0.0010\n",
            "Epoch 10/20\n",
            "\u001b[1m200/200\u001b[0m \u001b[32m━━━━━━━━━━━━━━━━━━━━\u001b[0m\u001b[37m\u001b[0m \u001b[1m0s\u001b[0m 298ms/step - accuracy: 0.9797 - loss: 0.0731\n",
            "Epoch 10: val_accuracy did not improve from 0.86854\n",
            "\u001b[1m200/200\u001b[0m \u001b[32m━━━━━━━━━━━━━━━━━━━━\u001b[0m\u001b[37m\u001b[0m \u001b[1m65s\u001b[0m 324ms/step - accuracy: 0.9797 - loss: 0.0731 - val_accuracy: 0.8413 - val_loss: 0.7304 - learning_rate: 0.0010\n",
            "Epoch 11/20\n",
            "\u001b[1m200/200\u001b[0m \u001b[32m━━━━━━━━━━━━━━━━━━━━\u001b[0m\u001b[37m\u001b[0m \u001b[1m0s\u001b[0m 300ms/step - accuracy: 0.9843 - loss: 0.0620\n",
            "Epoch 11: val_accuracy did not improve from 0.86854\n",
            "\n",
            "Epoch 11: ReduceLROnPlateau reducing learning rate to 0.0005000000237487257.\n",
            "\u001b[1m200/200\u001b[0m \u001b[32m━━━━━━━━━━━━━━━━━━━━\u001b[0m\u001b[37m\u001b[0m \u001b[1m82s\u001b[0m 326ms/step - accuracy: 0.9843 - loss: 0.0621 - val_accuracy: 0.8548 - val_loss: 0.5602 - learning_rate: 0.0010\n",
            "Epoch 12/20\n",
            "\u001b[1m200/200\u001b[0m \u001b[32m━━━━━━━━━━━━━━━━━━━━\u001b[0m\u001b[37m\u001b[0m \u001b[1m0s\u001b[0m 307ms/step - accuracy: 0.9902 - loss: 0.0452\n",
            "Epoch 12: val_accuracy improved from 0.86854 to 0.88795, saving model to best_model.keras\n",
            "\u001b[1m200/200\u001b[0m \u001b[32m━━━━━━━━━━━━━━━━━━━━\u001b[0m\u001b[37m\u001b[0m \u001b[1m67s\u001b[0m 333ms/step - accuracy: 0.9902 - loss: 0.0452 - val_accuracy: 0.8879 - val_loss: 0.5475 - learning_rate: 5.0000e-04\n",
            "Epoch 13/20\n",
            "\u001b[1m200/200\u001b[0m \u001b[32m━━━━━━━━━━━━━━━━━━━━\u001b[0m\u001b[37m\u001b[0m \u001b[1m0s\u001b[0m 299ms/step - accuracy: 0.9973 - loss: 0.0234\n",
            "Epoch 13: val_accuracy did not improve from 0.88795\n",
            "\u001b[1m200/200\u001b[0m \u001b[32m━━━━━━━━━━━━━━━━━━━━\u001b[0m\u001b[37m\u001b[0m \u001b[1m63s\u001b[0m 313ms/step - accuracy: 0.9973 - loss: 0.0234 - val_accuracy: 0.8764 - val_loss: 0.6376 - learning_rate: 5.0000e-04\n",
            "Epoch 14/20\n",
            "\u001b[1m200/200\u001b[0m \u001b[32m━━━━━━━━━━━━━━━━━━━━\u001b[0m\u001b[37m\u001b[0m \u001b[1m0s\u001b[0m 294ms/step - accuracy: 0.9966 - loss: 0.0218\n",
            "Epoch 14: val_accuracy improved from 0.88795 to 0.89546, saving model to best_model.keras\n",
            "\u001b[1m200/200\u001b[0m \u001b[32m━━━━━━━━━━━━━━━━━━━━\u001b[0m\u001b[37m\u001b[0m \u001b[1m83s\u001b[0m 320ms/step - accuracy: 0.9966 - loss: 0.0218 - val_accuracy: 0.8955 - val_loss: 0.4980 - learning_rate: 5.0000e-04\n",
            "Epoch 15/20\n",
            "\u001b[1m200/200\u001b[0m \u001b[32m━━━━━━━━━━━━━━━━━━━━\u001b[0m\u001b[37m\u001b[0m \u001b[1m0s\u001b[0m 310ms/step - accuracy: 0.9986 - loss: 0.0179\n",
            "Epoch 15: val_accuracy did not improve from 0.89546\n",
            "\u001b[1m200/200\u001b[0m \u001b[32m━━━━━━━━━━━━━━━━━━━━\u001b[0m\u001b[37m\u001b[0m \u001b[1m83s\u001b[0m 324ms/step - accuracy: 0.9986 - loss: 0.0179 - val_accuracy: 0.8908 - val_loss: 0.5533 - learning_rate: 5.0000e-04\n",
            "Epoch 16/20\n",
            "\u001b[1m200/200\u001b[0m \u001b[32m━━━━━━━━━━━━━━━━━━━━\u001b[0m\u001b[37m\u001b[0m \u001b[1m0s\u001b[0m 293ms/step - accuracy: 0.9980 - loss: 0.0186\n",
            "Epoch 16: val_accuracy did not improve from 0.89546\n",
            "\n",
            "Epoch 16: ReduceLROnPlateau reducing learning rate to 0.0002500000118743628.\n",
            "\u001b[1m200/200\u001b[0m \u001b[32m━━━━━━━━━━━━━━━━━━━━\u001b[0m\u001b[37m\u001b[0m \u001b[1m81s\u001b[0m 319ms/step - accuracy: 0.9980 - loss: 0.0186 - val_accuracy: 0.8951 - val_loss: 0.5463 - learning_rate: 5.0000e-04\n",
            "Epoch 17/20\n",
            "\u001b[1m200/200\u001b[0m \u001b[32m━━━━━━━━━━━━━━━━━━━━\u001b[0m\u001b[37m\u001b[0m \u001b[1m0s\u001b[0m 293ms/step - accuracy: 0.9993 - loss: 0.0148\n",
            "Epoch 17: val_accuracy improved from 0.89546 to 0.90235, saving model to best_model.keras\n",
            "\u001b[1m200/200\u001b[0m \u001b[32m━━━━━━━━━━━━━━━━━━━━\u001b[0m\u001b[37m\u001b[0m \u001b[1m61s\u001b[0m 308ms/step - accuracy: 0.9993 - loss: 0.0148 - val_accuracy: 0.9023 - val_loss: 0.5168 - learning_rate: 2.5000e-04\n",
            "Epoch 18/20\n",
            "\u001b[1m200/200\u001b[0m \u001b[32m━━━━━━━━━━━━━━━━━━━━\u001b[0m\u001b[37m\u001b[0m \u001b[1m0s\u001b[0m 307ms/step - accuracy: 0.9999 - loss: 0.0131\n",
            "Epoch 18: val_accuracy improved from 0.90235 to 0.90266, saving model to best_model.keras\n",
            "\u001b[1m200/200\u001b[0m \u001b[32m━━━━━━━━━━━━━━━━━━━━\u001b[0m\u001b[37m\u001b[0m \u001b[1m85s\u001b[0m 321ms/step - accuracy: 0.9999 - loss: 0.0131 - val_accuracy: 0.9027 - val_loss: 0.5406 - learning_rate: 2.5000e-04\n",
            "Epoch 19/20\n",
            "\u001b[1m200/200\u001b[0m \u001b[32m━━━━━━━━━━━━━━━━━━━━\u001b[0m\u001b[37m\u001b[0m \u001b[1m0s\u001b[0m 297ms/step - accuracy: 0.9992 - loss: 0.0136\n",
            "Epoch 19: val_accuracy did not improve from 0.90266\n",
            "\u001b[1m200/200\u001b[0m \u001b[32m━━━━━━━━━━━━━━━━━━━━\u001b[0m\u001b[37m\u001b[0m \u001b[1m65s\u001b[0m 323ms/step - accuracy: 0.9992 - loss: 0.0136 - val_accuracy: 0.9002 - val_loss: 0.5419 - learning_rate: 2.5000e-04\n",
            "Epoch 20/20\n",
            "\u001b[1m200/200\u001b[0m \u001b[32m━━━━━━━━━━━━━━━━━━━━\u001b[0m\u001b[37m\u001b[0m \u001b[1m0s\u001b[0m 295ms/step - accuracy: 0.9997 - loss: 0.0126\n",
            "Epoch 20: val_accuracy did not improve from 0.90266\n",
            "\n",
            "Epoch 20: ReduceLROnPlateau reducing learning rate to 0.0001250000059371814.\n",
            "\u001b[1m200/200\u001b[0m \u001b[32m━━━━━━━━━━━━━━━━━━━━\u001b[0m\u001b[37m\u001b[0m \u001b[1m62s\u001b[0m 312ms/step - accuracy: 0.9997 - loss: 0.0126 - val_accuracy: 0.8992 - val_loss: 0.5897 - learning_rate: 2.5000e-04\n"
          ]
        }
      ],
      "source": [
        "history = model.fit(\n",
        "    X_train, y_train,\n",
        "    validation_data=(X_val, y_val),\n",
        "    epochs=20,\n",
        "    batch_size=128,\n",
        "    callbacks=[checkpoint, reduce_lr],\n",
        "    verbose=1\n",
        ")"
      ]
    },
    {
      "cell_type": "markdown",
      "metadata": {
        "id": "vl1PYeBZNoAp"
      },
      "source": [
        "**Загрузка лучшей модели и оценка на тесте**"
      ]
    },
    {
      "cell_type": "code",
      "execution_count": null,
      "metadata": {
        "colab": {
          "base_uri": "https://localhost:8080/"
        },
        "id": "mlPMQIYiNrcD",
        "outputId": "d6f3b5db-e691-43e8-d3a8-5c34d405e4c8"
      },
      "outputs": [
        {
          "name": "stdout",
          "output_type": "stream",
          "text": [
            "\n",
            "🎯 Точность на тестовых данных: 91.05%\n"
          ]
        }
      ],
      "source": [
        "from keras.models import load_model\n",
        "\n",
        "best_model = load_model('best_model.keras')\n",
        "test_loss, test_acc = best_model.evaluate(X_test, y_test, verbose=0)\n",
        "print(f\"\\n🎯 Точность на тестовых данных: {test_acc * 100:.2f}%\")"
      ]
    },
    {
      "cell_type": "markdown",
      "metadata": {
        "id": "6tDfgyhCLzar"
      },
      "source": [
        "**График динамики обучения**"
      ]
    },
    {
      "cell_type": "code",
      "execution_count": null,
      "metadata": {
        "colab": {
          "base_uri": "https://localhost:8080/",
          "height": 410
        },
        "id": "KBhWKxrNL4aL",
        "outputId": "eee3b367-61ae-4628-ef90-e610ed788300"
      },
      "outputs": [
        {
          "data": {
            "image/png": "[encoded data removed]",
            "text/plain": [
              "<Figure size 800x400 with 1 Axes>"
            ]
          },
          "metadata": {},
          "output_type": "display_data"
        }
      ],
      "source": [
        "import matplotlib.pyplot as plt\n",
        "\n",
        "plt.figure(figsize=(8,4))\n",
        "plt.plot(history.history['accuracy'], label='train_acc')\n",
        "plt.plot(history.history['val_accuracy'], label='val_acc')\n",
        "plt.title('Динамика точности')\n",
        "plt.xlabel('Эпоха')\n",
        "plt.ylabel('Точность')\n",
        "plt.legend()\n",
        "plt.grid(True)\n",
        "plt.show()\n"
      ]
    }
  ],
  "metadata": {
    "colab": {
      "provenance": []
    },
    "kernelspec": {
      "display_name": "Python 3",
      "name": "python3"
    },
    "language_info": {
      "name": "python"
    }
  },
  "nbformat": 4,
  "nbformat_minor": 0
}
